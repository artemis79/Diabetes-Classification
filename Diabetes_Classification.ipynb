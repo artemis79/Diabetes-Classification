{
 "cells": [
  {
   "cell_type": "code",
   "execution_count": 4,
   "metadata": {
    "collapsed": true
   },
   "outputs": [
    {
     "name": "stdout",
     "output_type": "stream",
     "text": [
      "Requirement already satisfied: numpy in c:\\users\\mrahm\\pycharmprojects\\pythonprojectz\\venv\\lib\\site-packages (1.23.0)\n",
      "Requirement already satisfied: pandas in c:\\users\\mrahm\\pycharmprojects\\pythonprojectz\\venv\\lib\\site-packages (1.4.3)\n",
      "Requirement already satisfied: numpy>=1.21.0 in c:\\users\\mrahm\\pycharmprojects\\pythonprojectz\\venv\\lib\\site-packages (from pandas) (1.23.0)\n",
      "Requirement already satisfied: python-dateutil>=2.8.1 in c:\\users\\mrahm\\pycharmprojects\\pythonprojectz\\venv\\lib\\site-packages (from pandas) (2.8.2)\n",
      "Requirement already satisfied: pytz>=2020.1 in c:\\users\\mrahm\\pycharmprojects\\pythonprojectz\\venv\\lib\\site-packages (from pandas) (2022.1)\n",
      "Requirement already satisfied: six>=1.5 in c:\\users\\mrahm\\pycharmprojects\\pythonprojectz\\venv\\lib\\site-packages (from python-dateutil>=2.8.1->pandas) (1.16.0)\n",
      "Requirement already satisfied: matplotlib in c:\\users\\mrahm\\pycharmprojects\\pythonprojectz\\venv\\lib\\site-packages (3.5.2)\n",
      "Requirement already satisfied: kiwisolver>=1.0.1 in c:\\users\\mrahm\\pycharmprojects\\pythonprojectz\\venv\\lib\\site-packages (from matplotlib) (1.4.3)\n",
      "Requirement already satisfied: pyparsing>=2.2.1 in c:\\users\\mrahm\\pycharmprojects\\pythonprojectz\\venv\\lib\\site-packages (from matplotlib) (3.0.9)\n",
      "Requirement already satisfied: pillow>=6.2.0 in c:\\users\\mrahm\\pycharmprojects\\pythonprojectz\\venv\\lib\\site-packages (from matplotlib) (9.2.0)\n",
      "Requirement already satisfied: python-dateutil>=2.7 in c:\\users\\mrahm\\pycharmprojects\\pythonprojectz\\venv\\lib\\site-packages (from matplotlib) (2.8.2)\n",
      "Requirement already satisfied: fonttools>=4.22.0 in c:\\users\\mrahm\\pycharmprojects\\pythonprojectz\\venv\\lib\\site-packages (from matplotlib) (4.33.3)\n",
      "Requirement already satisfied: numpy>=1.17 in c:\\users\\mrahm\\pycharmprojects\\pythonprojectz\\venv\\lib\\site-packages (from matplotlib) (1.23.0)\n",
      "Requirement already satisfied: cycler>=0.10 in c:\\users\\mrahm\\pycharmprojects\\pythonprojectz\\venv\\lib\\site-packages (from matplotlib) (0.11.0)\n",
      "Requirement already satisfied: packaging>=20.0 in c:\\users\\mrahm\\pycharmprojects\\pythonprojectz\\venv\\lib\\site-packages (from matplotlib) (21.3)\n",
      "Requirement already satisfied: six>=1.5 in c:\\users\\mrahm\\pycharmprojects\\pythonprojectz\\venv\\lib\\site-packages (from python-dateutil>=2.7->matplotlib) (1.16.0)\n",
      "Requirement already satisfied: sklearn in c:\\users\\mrahm\\pycharmprojects\\pythonprojectz\\venv\\lib\\site-packages (0.0)\n",
      "Requirement already satisfied: scikit-learn in c:\\users\\mrahm\\pycharmprojects\\pythonprojectz\\venv\\lib\\site-packages (from sklearn) (1.1.1)\n",
      "Requirement already satisfied: joblib>=1.0.0 in c:\\users\\mrahm\\pycharmprojects\\pythonprojectz\\venv\\lib\\site-packages (from scikit-learn->sklearn) (1.1.0)\n",
      "Requirement already satisfied: scipy>=1.3.2 in c:\\users\\mrahm\\pycharmprojects\\pythonprojectz\\venv\\lib\\site-packages (from scikit-learn->sklearn) (1.8.1)\n",
      "Requirement already satisfied: threadpoolctl>=2.0.0 in c:\\users\\mrahm\\pycharmprojects\\pythonprojectz\\venv\\lib\\site-packages (from scikit-learn->sklearn) (3.1.0)\n",
      "Requirement already satisfied: numpy>=1.17.3 in c:\\users\\mrahm\\pycharmprojects\\pythonprojectz\\venv\\lib\\site-packages (from scikit-learn->sklearn) (1.23.0)\n",
      "Requirement already satisfied: xgboost in c:\\users\\mrahm\\pycharmprojects\\pythonprojectz\\venv\\lib\\site-packages (1.6.1)\n",
      "Requirement already satisfied: scipy in c:\\users\\mrahm\\pycharmprojects\\pythonprojectz\\venv\\lib\\site-packages (from xgboost) (1.8.1)\n",
      "Requirement already satisfied: numpy in c:\\users\\mrahm\\pycharmprojects\\pythonprojectz\\venv\\lib\\site-packages (from xgboost) (1.23.0)\n"
     ]
    }
   ],
   "source": [
    "!pip install numpy\n",
    "!pip install pandas\n",
    "!pip install matplotlib\n",
    "!pip install sklearn\n",
    "!pip install xgboost"
   ]
  },
  {
   "cell_type": "code",
   "execution_count": 5,
   "outputs": [],
   "source": [
    "import numpy as np\n",
    "import pandas as pd\n",
    "from sklearn.model_selection import train_test_split\n",
    "from sklearn.preprocessing import OneHotEncoder\n",
    "import matplotlib.pyplot as plt\n",
    "from xgboost import XGBClassifier\n",
    "from sklearn.metrics import accuracy_score, recall_score, precision_score, confusion_matrix, roc_auc_score\n",
    "from sklearn.model_selection import GridSearchCV"
   ],
   "metadata": {
    "collapsed": false,
    "pycharm": {
     "name": "#%%\n"
    }
   }
  },
  {
   "cell_type": "markdown",
   "source": [
    "# Read Data"
   ],
   "metadata": {
    "collapsed": false
   }
  },
  {
   "cell_type": "code",
   "execution_count": 6,
   "outputs": [
    {
     "name": "stderr",
     "output_type": "stream",
     "text": [
      "C:\\Users\\mrahm\\AppData\\Local\\Temp\\ipykernel_25124\\1359325007.py:1: FutureWarning: In a future version of pandas all arguments of DataFrame.drop except for the argument 'labels' will be keyword-only.\n",
      "  data = pd.read_csv(\"diabetes.csv\").drop(\"Unnamed: 0\", 1)\n"
     ]
    },
    {
     "data": {
      "text/plain": "       Diabetes_binary  HighBP  High Cholesterol  Cholesterol Check   BMI  \\\n0                  0.0     1.0               0.0                1.0  26.0   \n1                  0.0     1.0               1.0                1.0  26.0   \n2                  0.0     0.0               0.0                1.0  26.0   \n3                  0.0     1.0               1.0                1.0  28.0   \n4                  0.0     0.0               0.0                1.0  29.0   \n...                ...     ...               ...                ...   ...   \n70687              1.0     0.0               1.0                1.0  37.0   \n70688              1.0     0.0               1.0                1.0  29.0   \n70689              1.0     1.0               1.0                1.0  25.0   \n70690              1.0     1.0               1.0                1.0  18.0   \n70691              1.0     1.0               1.0                1.0  25.0   \n\n       Smoker  Stroke  HeartDiseaseorAttack  Physical Activity  Fruits  ...  \\\n0         0.0     0.0                   0.0                1.0     0.0  ...   \n1         1.0     1.0                   0.0                0.0     1.0  ...   \n2         0.0     0.0                   0.0                1.0     1.0  ...   \n3         1.0     0.0                   0.0                1.0     1.0  ...   \n4         1.0     0.0                   0.0                1.0     1.0  ...   \n...       ...     ...                   ...                ...     ...  ...   \n70687     0.0     0.0                   0.0                0.0     0.0  ...   \n70688     1.0     0.0                   1.0                0.0     1.0  ...   \n70689     0.0     0.0                   1.0                0.0     1.0  ...   \n70690     0.0     0.0                   0.0                0.0     0.0  ...   \n70691     0.0     0.0                   1.0                1.0     1.0  ...   \n\n       Any Health Care  No Doctor because of Cost  General Health  \\\n0                  1.0                        0.0          Medium   \n1                  1.0                        0.0          Medium   \n2                  1.0                        0.0            High   \n3                  1.0                        0.0          Medium   \n4                  1.0                        0.0            Good   \n...                ...                        ...             ...   \n70687              1.0                        0.0             Low   \n70688              1.0                        0.0            Good   \n70689              1.0                        0.0        Very Low   \n70690              1.0                        0.0             Low   \n70691              1.0                        0.0            Good   \n\n       Mental Health Physical Health  Difficulty Walking     Sex   Age  \\\n0                5.0            30.0                 0.0    male   4.0   \n1                0.0             0.0                 0.0    male  12.0   \n2                0.0            10.0                 0.0    male  13.0   \n3                0.0             3.0                 0.0    male  11.0   \n4                0.0             0.0                 0.0  female   8.0   \n...              ...             ...                 ...     ...   ...   \n70687            0.0             0.0                 0.0  female   6.0   \n70688            0.0             0.0                 1.0    male  10.0   \n70689           15.0             0.0                 1.0  female  13.0   \n70690            0.0             0.0                 1.0  female  11.0   \n70691            0.0             0.0                 0.0  female   9.0   \n\n      Education  Income  \n0          Cat6    Cat8  \n1          Cat6    Cat8  \n2          Cat6    Cat8  \n3          Cat6    Cat8  \n4          Cat5    Cat8  \n...         ...     ...  \n70687      Cat4    Cat1  \n70688      Cat3    Cat6  \n70689      Cat6    Cat4  \n70690      Cat2    Cat4  \n70691      Cat6    Cat2  \n\n[70692 rows x 22 columns]",
      "text/html": "<div>\n<style scoped>\n    .dataframe tbody tr th:only-of-type {\n        vertical-align: middle;\n    }\n\n    .dataframe tbody tr th {\n        vertical-align: top;\n    }\n\n    .dataframe thead th {\n        text-align: right;\n    }\n</style>\n<table border=\"1\" class=\"dataframe\">\n  <thead>\n    <tr style=\"text-align: right;\">\n      <th></th>\n      <th>Diabetes_binary</th>\n      <th>HighBP</th>\n      <th>High Cholesterol</th>\n      <th>Cholesterol Check</th>\n      <th>BMI</th>\n      <th>Smoker</th>\n      <th>Stroke</th>\n      <th>HeartDiseaseorAttack</th>\n      <th>Physical Activity</th>\n      <th>Fruits</th>\n      <th>...</th>\n      <th>Any Health Care</th>\n      <th>No Doctor because of Cost</th>\n      <th>General Health</th>\n      <th>Mental Health</th>\n      <th>Physical Health</th>\n      <th>Difficulty Walking</th>\n      <th>Sex</th>\n      <th>Age</th>\n      <th>Education</th>\n      <th>Income</th>\n    </tr>\n  </thead>\n  <tbody>\n    <tr>\n      <th>0</th>\n      <td>0.0</td>\n      <td>1.0</td>\n      <td>0.0</td>\n      <td>1.0</td>\n      <td>26.0</td>\n      <td>0.0</td>\n      <td>0.0</td>\n      <td>0.0</td>\n      <td>1.0</td>\n      <td>0.0</td>\n      <td>...</td>\n      <td>1.0</td>\n      <td>0.0</td>\n      <td>Medium</td>\n      <td>5.0</td>\n      <td>30.0</td>\n      <td>0.0</td>\n      <td>male</td>\n      <td>4.0</td>\n      <td>Cat6</td>\n      <td>Cat8</td>\n    </tr>\n    <tr>\n      <th>1</th>\n      <td>0.0</td>\n      <td>1.0</td>\n      <td>1.0</td>\n      <td>1.0</td>\n      <td>26.0</td>\n      <td>1.0</td>\n      <td>1.0</td>\n      <td>0.0</td>\n      <td>0.0</td>\n      <td>1.0</td>\n      <td>...</td>\n      <td>1.0</td>\n      <td>0.0</td>\n      <td>Medium</td>\n      <td>0.0</td>\n      <td>0.0</td>\n      <td>0.0</td>\n      <td>male</td>\n      <td>12.0</td>\n      <td>Cat6</td>\n      <td>Cat8</td>\n    </tr>\n    <tr>\n      <th>2</th>\n      <td>0.0</td>\n      <td>0.0</td>\n      <td>0.0</td>\n      <td>1.0</td>\n      <td>26.0</td>\n      <td>0.0</td>\n      <td>0.0</td>\n      <td>0.0</td>\n      <td>1.0</td>\n      <td>1.0</td>\n      <td>...</td>\n      <td>1.0</td>\n      <td>0.0</td>\n      <td>High</td>\n      <td>0.0</td>\n      <td>10.0</td>\n      <td>0.0</td>\n      <td>male</td>\n      <td>13.0</td>\n      <td>Cat6</td>\n      <td>Cat8</td>\n    </tr>\n    <tr>\n      <th>3</th>\n      <td>0.0</td>\n      <td>1.0</td>\n      <td>1.0</td>\n      <td>1.0</td>\n      <td>28.0</td>\n      <td>1.0</td>\n      <td>0.0</td>\n      <td>0.0</td>\n      <td>1.0</td>\n      <td>1.0</td>\n      <td>...</td>\n      <td>1.0</td>\n      <td>0.0</td>\n      <td>Medium</td>\n      <td>0.0</td>\n      <td>3.0</td>\n      <td>0.0</td>\n      <td>male</td>\n      <td>11.0</td>\n      <td>Cat6</td>\n      <td>Cat8</td>\n    </tr>\n    <tr>\n      <th>4</th>\n      <td>0.0</td>\n      <td>0.0</td>\n      <td>0.0</td>\n      <td>1.0</td>\n      <td>29.0</td>\n      <td>1.0</td>\n      <td>0.0</td>\n      <td>0.0</td>\n      <td>1.0</td>\n      <td>1.0</td>\n      <td>...</td>\n      <td>1.0</td>\n      <td>0.0</td>\n      <td>Good</td>\n      <td>0.0</td>\n      <td>0.0</td>\n      <td>0.0</td>\n      <td>female</td>\n      <td>8.0</td>\n      <td>Cat5</td>\n      <td>Cat8</td>\n    </tr>\n    <tr>\n      <th>...</th>\n      <td>...</td>\n      <td>...</td>\n      <td>...</td>\n      <td>...</td>\n      <td>...</td>\n      <td>...</td>\n      <td>...</td>\n      <td>...</td>\n      <td>...</td>\n      <td>...</td>\n      <td>...</td>\n      <td>...</td>\n      <td>...</td>\n      <td>...</td>\n      <td>...</td>\n      <td>...</td>\n      <td>...</td>\n      <td>...</td>\n      <td>...</td>\n      <td>...</td>\n      <td>...</td>\n    </tr>\n    <tr>\n      <th>70687</th>\n      <td>1.0</td>\n      <td>0.0</td>\n      <td>1.0</td>\n      <td>1.0</td>\n      <td>37.0</td>\n      <td>0.0</td>\n      <td>0.0</td>\n      <td>0.0</td>\n      <td>0.0</td>\n      <td>0.0</td>\n      <td>...</td>\n      <td>1.0</td>\n      <td>0.0</td>\n      <td>Low</td>\n      <td>0.0</td>\n      <td>0.0</td>\n      <td>0.0</td>\n      <td>female</td>\n      <td>6.0</td>\n      <td>Cat4</td>\n      <td>Cat1</td>\n    </tr>\n    <tr>\n      <th>70688</th>\n      <td>1.0</td>\n      <td>0.0</td>\n      <td>1.0</td>\n      <td>1.0</td>\n      <td>29.0</td>\n      <td>1.0</td>\n      <td>0.0</td>\n      <td>1.0</td>\n      <td>0.0</td>\n      <td>1.0</td>\n      <td>...</td>\n      <td>1.0</td>\n      <td>0.0</td>\n      <td>Good</td>\n      <td>0.0</td>\n      <td>0.0</td>\n      <td>1.0</td>\n      <td>male</td>\n      <td>10.0</td>\n      <td>Cat3</td>\n      <td>Cat6</td>\n    </tr>\n    <tr>\n      <th>70689</th>\n      <td>1.0</td>\n      <td>1.0</td>\n      <td>1.0</td>\n      <td>1.0</td>\n      <td>25.0</td>\n      <td>0.0</td>\n      <td>0.0</td>\n      <td>1.0</td>\n      <td>0.0</td>\n      <td>1.0</td>\n      <td>...</td>\n      <td>1.0</td>\n      <td>0.0</td>\n      <td>Very Low</td>\n      <td>15.0</td>\n      <td>0.0</td>\n      <td>1.0</td>\n      <td>female</td>\n      <td>13.0</td>\n      <td>Cat6</td>\n      <td>Cat4</td>\n    </tr>\n    <tr>\n      <th>70690</th>\n      <td>1.0</td>\n      <td>1.0</td>\n      <td>1.0</td>\n      <td>1.0</td>\n      <td>18.0</td>\n      <td>0.0</td>\n      <td>0.0</td>\n      <td>0.0</td>\n      <td>0.0</td>\n      <td>0.0</td>\n      <td>...</td>\n      <td>1.0</td>\n      <td>0.0</td>\n      <td>Low</td>\n      <td>0.0</td>\n      <td>0.0</td>\n      <td>1.0</td>\n      <td>female</td>\n      <td>11.0</td>\n      <td>Cat2</td>\n      <td>Cat4</td>\n    </tr>\n    <tr>\n      <th>70691</th>\n      <td>1.0</td>\n      <td>1.0</td>\n      <td>1.0</td>\n      <td>1.0</td>\n      <td>25.0</td>\n      <td>0.0</td>\n      <td>0.0</td>\n      <td>1.0</td>\n      <td>1.0</td>\n      <td>1.0</td>\n      <td>...</td>\n      <td>1.0</td>\n      <td>0.0</td>\n      <td>Good</td>\n      <td>0.0</td>\n      <td>0.0</td>\n      <td>0.0</td>\n      <td>female</td>\n      <td>9.0</td>\n      <td>Cat6</td>\n      <td>Cat2</td>\n    </tr>\n  </tbody>\n</table>\n<p>70692 rows × 22 columns</p>\n</div>"
     },
     "execution_count": 6,
     "metadata": {},
     "output_type": "execute_result"
    }
   ],
   "source": [
    "data = pd.read_csv(\"diabetes.csv\").drop(\"Unnamed: 0\", 1)\n",
    "data"
   ],
   "metadata": {
    "collapsed": false,
    "pycharm": {
     "name": "#%%\n"
    }
   }
  },
  {
   "cell_type": "markdown",
   "source": [
    "# Preprocessing"
   ],
   "metadata": {
    "collapsed": false,
    "pycharm": {
     "name": "#%% md\n"
    }
   }
  },
  {
   "cell_type": "markdown",
   "source": [
    "## Remove and Replace Nan Values"
   ],
   "metadata": {
    "collapsed": false,
    "pycharm": {
     "name": "#%% md\n"
    }
   }
  },
  {
   "cell_type": "code",
   "execution_count": 7,
   "outputs": [
    {
     "name": "stdout",
     "output_type": "stream",
     "text": [
      "70692\n"
     ]
    },
    {
     "data": {
      "text/plain": "6"
     },
     "execution_count": 7,
     "metadata": {},
     "output_type": "execute_result"
    }
   ],
   "source": [
    "data.dropna(thresh=10)\n",
    "print(len(data))\n",
    "data['BMI'].fillna(data['BMI'].mean())\n",
    "data['General Health'].fillna('Medium')\n",
    "data['Mental Health'].fillna(data['Mental Health'].mean())\n",
    "data['Physical Health'].fillna(data['Physical Health'].mean())\n",
    "data['Age'].fillna(data['Age'].median())\n",
    "data.fillna(data.mode())\n",
    "data.isnull().any(axis=1).sum()"
   ],
   "metadata": {
    "collapsed": false,
    "pycharm": {
     "name": "#%%\n"
    }
   }
  },
  {
   "cell_type": "markdown",
   "source": [
    "## Rename Column Names"
   ],
   "metadata": {
    "collapsed": false,
    "pycharm": {
     "name": "#%% md\n"
    }
   }
  },
  {
   "cell_type": "code",
   "execution_count": 8,
   "outputs": [
    {
     "data": {
      "text/plain": "       Diabetes_binary  HighBP  High_Cholesterol  Cholesterol_Check   BMI  \\\n0                  0.0     1.0               0.0                1.0  26.0   \n1                  0.0     1.0               1.0                1.0  26.0   \n2                  0.0     0.0               0.0                1.0  26.0   \n3                  0.0     1.0               1.0                1.0  28.0   \n4                  0.0     0.0               0.0                1.0  29.0   \n...                ...     ...               ...                ...   ...   \n70687              1.0     0.0               1.0                1.0  37.0   \n70688              1.0     0.0               1.0                1.0  29.0   \n70689              1.0     1.0               1.0                1.0  25.0   \n70690              1.0     1.0               1.0                1.0  18.0   \n70691              1.0     1.0               1.0                1.0  25.0   \n\n       Smoker  Stroke  HeartDiseaseorAttack  Physical_Activity  Fruits  ...  \\\n0         0.0     0.0                   0.0                1.0     0.0  ...   \n1         1.0     1.0                   0.0                0.0     1.0  ...   \n2         0.0     0.0                   0.0                1.0     1.0  ...   \n3         1.0     0.0                   0.0                1.0     1.0  ...   \n4         1.0     0.0                   0.0                1.0     1.0  ...   \n...       ...     ...                   ...                ...     ...  ...   \n70687     0.0     0.0                   0.0                0.0     0.0  ...   \n70688     1.0     0.0                   1.0                0.0     1.0  ...   \n70689     0.0     0.0                   1.0                0.0     1.0  ...   \n70690     0.0     0.0                   0.0                0.0     0.0  ...   \n70691     0.0     0.0                   1.0                1.0     1.0  ...   \n\n       Any_Health_Care  No_Doctor_because_of_Cost  General_Health  \\\n0                  1.0                        0.0          Medium   \n1                  1.0                        0.0          Medium   \n2                  1.0                        0.0            High   \n3                  1.0                        0.0          Medium   \n4                  1.0                        0.0            Good   \n...                ...                        ...             ...   \n70687              1.0                        0.0             Low   \n70688              1.0                        0.0            Good   \n70689              1.0                        0.0        Very Low   \n70690              1.0                        0.0             Low   \n70691              1.0                        0.0            Good   \n\n       Mental_Health Physical_Health  Difficulty_Walking     Sex   Age  \\\n0                5.0            30.0                 0.0    male   4.0   \n1                0.0             0.0                 0.0    male  12.0   \n2                0.0            10.0                 0.0    male  13.0   \n3                0.0             3.0                 0.0    male  11.0   \n4                0.0             0.0                 0.0  female   8.0   \n...              ...             ...                 ...     ...   ...   \n70687            0.0             0.0                 0.0  female   6.0   \n70688            0.0             0.0                 1.0    male  10.0   \n70689           15.0             0.0                 1.0  female  13.0   \n70690            0.0             0.0                 1.0  female  11.0   \n70691            0.0             0.0                 0.0  female   9.0   \n\n      Education  Income  \n0          Cat6    Cat8  \n1          Cat6    Cat8  \n2          Cat6    Cat8  \n3          Cat6    Cat8  \n4          Cat5    Cat8  \n...         ...     ...  \n70687      Cat4    Cat1  \n70688      Cat3    Cat6  \n70689      Cat6    Cat4  \n70690      Cat2    Cat4  \n70691      Cat6    Cat2  \n\n[70692 rows x 22 columns]",
      "text/html": "<div>\n<style scoped>\n    .dataframe tbody tr th:only-of-type {\n        vertical-align: middle;\n    }\n\n    .dataframe tbody tr th {\n        vertical-align: top;\n    }\n\n    .dataframe thead th {\n        text-align: right;\n    }\n</style>\n<table border=\"1\" class=\"dataframe\">\n  <thead>\n    <tr style=\"text-align: right;\">\n      <th></th>\n      <th>Diabetes_binary</th>\n      <th>HighBP</th>\n      <th>High_Cholesterol</th>\n      <th>Cholesterol_Check</th>\n      <th>BMI</th>\n      <th>Smoker</th>\n      <th>Stroke</th>\n      <th>HeartDiseaseorAttack</th>\n      <th>Physical_Activity</th>\n      <th>Fruits</th>\n      <th>...</th>\n      <th>Any_Health_Care</th>\n      <th>No_Doctor_because_of_Cost</th>\n      <th>General_Health</th>\n      <th>Mental_Health</th>\n      <th>Physical_Health</th>\n      <th>Difficulty_Walking</th>\n      <th>Sex</th>\n      <th>Age</th>\n      <th>Education</th>\n      <th>Income</th>\n    </tr>\n  </thead>\n  <tbody>\n    <tr>\n      <th>0</th>\n      <td>0.0</td>\n      <td>1.0</td>\n      <td>0.0</td>\n      <td>1.0</td>\n      <td>26.0</td>\n      <td>0.0</td>\n      <td>0.0</td>\n      <td>0.0</td>\n      <td>1.0</td>\n      <td>0.0</td>\n      <td>...</td>\n      <td>1.0</td>\n      <td>0.0</td>\n      <td>Medium</td>\n      <td>5.0</td>\n      <td>30.0</td>\n      <td>0.0</td>\n      <td>male</td>\n      <td>4.0</td>\n      <td>Cat6</td>\n      <td>Cat8</td>\n    </tr>\n    <tr>\n      <th>1</th>\n      <td>0.0</td>\n      <td>1.0</td>\n      <td>1.0</td>\n      <td>1.0</td>\n      <td>26.0</td>\n      <td>1.0</td>\n      <td>1.0</td>\n      <td>0.0</td>\n      <td>0.0</td>\n      <td>1.0</td>\n      <td>...</td>\n      <td>1.0</td>\n      <td>0.0</td>\n      <td>Medium</td>\n      <td>0.0</td>\n      <td>0.0</td>\n      <td>0.0</td>\n      <td>male</td>\n      <td>12.0</td>\n      <td>Cat6</td>\n      <td>Cat8</td>\n    </tr>\n    <tr>\n      <th>2</th>\n      <td>0.0</td>\n      <td>0.0</td>\n      <td>0.0</td>\n      <td>1.0</td>\n      <td>26.0</td>\n      <td>0.0</td>\n      <td>0.0</td>\n      <td>0.0</td>\n      <td>1.0</td>\n      <td>1.0</td>\n      <td>...</td>\n      <td>1.0</td>\n      <td>0.0</td>\n      <td>High</td>\n      <td>0.0</td>\n      <td>10.0</td>\n      <td>0.0</td>\n      <td>male</td>\n      <td>13.0</td>\n      <td>Cat6</td>\n      <td>Cat8</td>\n    </tr>\n    <tr>\n      <th>3</th>\n      <td>0.0</td>\n      <td>1.0</td>\n      <td>1.0</td>\n      <td>1.0</td>\n      <td>28.0</td>\n      <td>1.0</td>\n      <td>0.0</td>\n      <td>0.0</td>\n      <td>1.0</td>\n      <td>1.0</td>\n      <td>...</td>\n      <td>1.0</td>\n      <td>0.0</td>\n      <td>Medium</td>\n      <td>0.0</td>\n      <td>3.0</td>\n      <td>0.0</td>\n      <td>male</td>\n      <td>11.0</td>\n      <td>Cat6</td>\n      <td>Cat8</td>\n    </tr>\n    <tr>\n      <th>4</th>\n      <td>0.0</td>\n      <td>0.0</td>\n      <td>0.0</td>\n      <td>1.0</td>\n      <td>29.0</td>\n      <td>1.0</td>\n      <td>0.0</td>\n      <td>0.0</td>\n      <td>1.0</td>\n      <td>1.0</td>\n      <td>...</td>\n      <td>1.0</td>\n      <td>0.0</td>\n      <td>Good</td>\n      <td>0.0</td>\n      <td>0.0</td>\n      <td>0.0</td>\n      <td>female</td>\n      <td>8.0</td>\n      <td>Cat5</td>\n      <td>Cat8</td>\n    </tr>\n    <tr>\n      <th>...</th>\n      <td>...</td>\n      <td>...</td>\n      <td>...</td>\n      <td>...</td>\n      <td>...</td>\n      <td>...</td>\n      <td>...</td>\n      <td>...</td>\n      <td>...</td>\n      <td>...</td>\n      <td>...</td>\n      <td>...</td>\n      <td>...</td>\n      <td>...</td>\n      <td>...</td>\n      <td>...</td>\n      <td>...</td>\n      <td>...</td>\n      <td>...</td>\n      <td>...</td>\n      <td>...</td>\n    </tr>\n    <tr>\n      <th>70687</th>\n      <td>1.0</td>\n      <td>0.0</td>\n      <td>1.0</td>\n      <td>1.0</td>\n      <td>37.0</td>\n      <td>0.0</td>\n      <td>0.0</td>\n      <td>0.0</td>\n      <td>0.0</td>\n      <td>0.0</td>\n      <td>...</td>\n      <td>1.0</td>\n      <td>0.0</td>\n      <td>Low</td>\n      <td>0.0</td>\n      <td>0.0</td>\n      <td>0.0</td>\n      <td>female</td>\n      <td>6.0</td>\n      <td>Cat4</td>\n      <td>Cat1</td>\n    </tr>\n    <tr>\n      <th>70688</th>\n      <td>1.0</td>\n      <td>0.0</td>\n      <td>1.0</td>\n      <td>1.0</td>\n      <td>29.0</td>\n      <td>1.0</td>\n      <td>0.0</td>\n      <td>1.0</td>\n      <td>0.0</td>\n      <td>1.0</td>\n      <td>...</td>\n      <td>1.0</td>\n      <td>0.0</td>\n      <td>Good</td>\n      <td>0.0</td>\n      <td>0.0</td>\n      <td>1.0</td>\n      <td>male</td>\n      <td>10.0</td>\n      <td>Cat3</td>\n      <td>Cat6</td>\n    </tr>\n    <tr>\n      <th>70689</th>\n      <td>1.0</td>\n      <td>1.0</td>\n      <td>1.0</td>\n      <td>1.0</td>\n      <td>25.0</td>\n      <td>0.0</td>\n      <td>0.0</td>\n      <td>1.0</td>\n      <td>0.0</td>\n      <td>1.0</td>\n      <td>...</td>\n      <td>1.0</td>\n      <td>0.0</td>\n      <td>Very Low</td>\n      <td>15.0</td>\n      <td>0.0</td>\n      <td>1.0</td>\n      <td>female</td>\n      <td>13.0</td>\n      <td>Cat6</td>\n      <td>Cat4</td>\n    </tr>\n    <tr>\n      <th>70690</th>\n      <td>1.0</td>\n      <td>1.0</td>\n      <td>1.0</td>\n      <td>1.0</td>\n      <td>18.0</td>\n      <td>0.0</td>\n      <td>0.0</td>\n      <td>0.0</td>\n      <td>0.0</td>\n      <td>0.0</td>\n      <td>...</td>\n      <td>1.0</td>\n      <td>0.0</td>\n      <td>Low</td>\n      <td>0.0</td>\n      <td>0.0</td>\n      <td>1.0</td>\n      <td>female</td>\n      <td>11.0</td>\n      <td>Cat2</td>\n      <td>Cat4</td>\n    </tr>\n    <tr>\n      <th>70691</th>\n      <td>1.0</td>\n      <td>1.0</td>\n      <td>1.0</td>\n      <td>1.0</td>\n      <td>25.0</td>\n      <td>0.0</td>\n      <td>0.0</td>\n      <td>1.0</td>\n      <td>1.0</td>\n      <td>1.0</td>\n      <td>...</td>\n      <td>1.0</td>\n      <td>0.0</td>\n      <td>Good</td>\n      <td>0.0</td>\n      <td>0.0</td>\n      <td>0.0</td>\n      <td>female</td>\n      <td>9.0</td>\n      <td>Cat6</td>\n      <td>Cat2</td>\n    </tr>\n  </tbody>\n</table>\n<p>70692 rows × 22 columns</p>\n</div>"
     },
     "execution_count": 8,
     "metadata": {},
     "output_type": "execute_result"
    }
   ],
   "source": [
    "data = data.rename(columns={\"High Cholesterol\": \"High_Cholesterol\",\n",
    "                     \"Cholesterol Check\": \"Cholesterol_Check\",\n",
    "                     \"Physical Activity\": \"Physical_Activity\",\n",
    "                     \"Heavy Alcohol Consumption\": \"Heavy_Alcohol_Consumption\",\n",
    "                     \"Any Health Care\": \"Any_Health_Care\",\n",
    "                     \"No Doctor because of Cost\": \"No_Doctor_because_of_Cost\",\n",
    "                     \"General Health\": \"General_Health\",\n",
    "                     \"Mental Health\": \"Mental_Health\",\n",
    "                     \"Physical Health\": \"Physical_Health\",\n",
    "                     \"Difficulty Walking\": \"Difficulty_Walking\"})\n",
    "data"
   ],
   "metadata": {
    "collapsed": false,
    "pycharm": {
     "name": "#%%\n"
    }
   }
  },
  {
   "cell_type": "markdown",
   "source": [
    "## Normalize Data\n",
    "\n",
    "IBM can be categorized"
   ],
   "metadata": {
    "collapsed": false,
    "pycharm": {
     "name": "#%% md\n"
    }
   }
  },
  {
   "cell_type": "code",
   "execution_count": 9,
   "outputs": [
    {
     "data": {
      "text/plain": "<AxesSubplot:ylabel='Frequency'>"
     },
     "execution_count": 9,
     "metadata": {},
     "output_type": "execute_result"
    },
    {
     "data": {
      "text/plain": "<Figure size 432x288 with 1 Axes>",
      "image/png": "[encoded data removed]"
     },
     "metadata": {
      "needs_background": "light"
     },
     "output_type": "display_data"
    }
   ],
   "source": [
    "data.BMI.plot.hist()\n"
   ],
   "metadata": {
    "collapsed": false,
    "pycharm": {
     "name": "#%%\n"
    }
   }
  },
  {
   "cell_type": "markdown",
   "source": [
    "This shows us that we can put BMI into 5 categories\n"
   ],
   "metadata": {
    "collapsed": false,
    "pycharm": {
     "name": "#%% md\n"
    }
   }
  },
  {
   "cell_type": "code",
   "execution_count": 10,
   "outputs": [
    {
     "data": {
      "text/plain": "       Diabetes_binary  HighBP  High_Cholesterol  Cholesterol_Check BMI  \\\n0                  0.0     1.0               0.0                1.0   1   \n1                  0.0     1.0               1.0                1.0   1   \n2                  0.0     0.0               0.0                1.0   1   \n3                  0.0     1.0               1.0                1.0   1   \n4                  0.0     0.0               0.0                1.0   1   \n...                ...     ...               ...                ...  ..   \n70687              1.0     0.0               1.0                1.0   2   \n70688              1.0     0.0               1.0                1.0   1   \n70689              1.0     1.0               1.0                1.0   1   \n70690              1.0     1.0               1.0                1.0   1   \n70691              1.0     1.0               1.0                1.0   1   \n\n       Smoker  Stroke  HeartDiseaseorAttack  Physical_Activity  Fruits  ...  \\\n0         0.0     0.0                   0.0                1.0     0.0  ...   \n1         1.0     1.0                   0.0                0.0     1.0  ...   \n2         0.0     0.0                   0.0                1.0     1.0  ...   \n3         1.0     0.0                   0.0                1.0     1.0  ...   \n4         1.0     0.0                   0.0                1.0     1.0  ...   \n...       ...     ...                   ...                ...     ...  ...   \n70687     0.0     0.0                   0.0                0.0     0.0  ...   \n70688     1.0     0.0                   1.0                0.0     1.0  ...   \n70689     0.0     0.0                   1.0                0.0     1.0  ...   \n70690     0.0     0.0                   0.0                0.0     0.0  ...   \n70691     0.0     0.0                   1.0                1.0     1.0  ...   \n\n       Any_Health_Care  No_Doctor_because_of_Cost  General_Health  \\\n0                  1.0                        0.0          Medium   \n1                  1.0                        0.0          Medium   \n2                  1.0                        0.0            High   \n3                  1.0                        0.0          Medium   \n4                  1.0                        0.0            Good   \n...                ...                        ...             ...   \n70687              1.0                        0.0             Low   \n70688              1.0                        0.0            Good   \n70689              1.0                        0.0        Very Low   \n70690              1.0                        0.0             Low   \n70691              1.0                        0.0            Good   \n\n       Mental_Health Physical_Health  Difficulty_Walking     Sex   Age  \\\n0                5.0            30.0                 0.0    male   4.0   \n1                0.0             0.0                 0.0    male  12.0   \n2                0.0            10.0                 0.0    male  13.0   \n3                0.0             3.0                 0.0    male  11.0   \n4                0.0             0.0                 0.0  female   8.0   \n...              ...             ...                 ...     ...   ...   \n70687            0.0             0.0                 0.0  female   6.0   \n70688            0.0             0.0                 1.0    male  10.0   \n70689           15.0             0.0                 1.0  female  13.0   \n70690            0.0             0.0                 1.0  female  11.0   \n70691            0.0             0.0                 0.0  female   9.0   \n\n      Education  Income  \n0          Cat6    Cat8  \n1          Cat6    Cat8  \n2          Cat6    Cat8  \n3          Cat6    Cat8  \n4          Cat5    Cat8  \n...         ...     ...  \n70687      Cat4    Cat1  \n70688      Cat3    Cat6  \n70689      Cat6    Cat4  \n70690      Cat2    Cat4  \n70691      Cat6    Cat2  \n\n[70692 rows x 22 columns]",
      "text/html": "<div>\n<style scoped>\n    .dataframe tbody tr th:only-of-type {\n        vertical-align: middle;\n    }\n\n    .dataframe tbody tr th {\n        vertical-align: top;\n    }\n\n    .dataframe thead th {\n        text-align: right;\n    }\n</style>\n<table border=\"1\" class=\"dataframe\">\n  <thead>\n    <tr style=\"text-align: right;\">\n      <th></th>\n      <th>Diabetes_binary</th>\n      <th>HighBP</th>\n      <th>High_Cholesterol</th>\n      <th>Cholesterol_Check</th>\n      <th>BMI</th>\n      <th>Smoker</th>\n      <th>Stroke</th>\n      <th>HeartDiseaseorAttack</th>\n      <th>Physical_Activity</th>\n      <th>Fruits</th>\n      <th>...</th>\n      <th>Any_Health_Care</th>\n      <th>No_Doctor_because_of_Cost</th>\n      <th>General_Health</th>\n      <th>Mental_Health</th>\n      <th>Physical_Health</th>\n      <th>Difficulty_Walking</th>\n      <th>Sex</th>\n      <th>Age</th>\n      <th>Education</th>\n      <th>Income</th>\n    </tr>\n  </thead>\n  <tbody>\n    <tr>\n      <th>0</th>\n      <td>0.0</td>\n      <td>1.0</td>\n      <td>0.0</td>\n      <td>1.0</td>\n      <td>1</td>\n      <td>0.0</td>\n      <td>0.0</td>\n      <td>0.0</td>\n      <td>1.0</td>\n      <td>0.0</td>\n      <td>...</td>\n      <td>1.0</td>\n      <td>0.0</td>\n      <td>Medium</td>\n      <td>5.0</td>\n      <td>30.0</td>\n      <td>0.0</td>\n      <td>male</td>\n      <td>4.0</td>\n      <td>Cat6</td>\n      <td>Cat8</td>\n    </tr>\n    <tr>\n      <th>1</th>\n      <td>0.0</td>\n      <td>1.0</td>\n      <td>1.0</td>\n      <td>1.0</td>\n      <td>1</td>\n      <td>1.0</td>\n      <td>1.0</td>\n      <td>0.0</td>\n      <td>0.0</td>\n      <td>1.0</td>\n      <td>...</td>\n      <td>1.0</td>\n      <td>0.0</td>\n      <td>Medium</td>\n      <td>0.0</td>\n      <td>0.0</td>\n      <td>0.0</td>\n      <td>male</td>\n      <td>12.0</td>\n      <td>Cat6</td>\n      <td>Cat8</td>\n    </tr>\n    <tr>\n      <th>2</th>\n      <td>0.0</td>\n      <td>0.0</td>\n      <td>0.0</td>\n      <td>1.0</td>\n      <td>1</td>\n      <td>0.0</td>\n      <td>0.0</td>\n      <td>0.0</td>\n      <td>1.0</td>\n      <td>1.0</td>\n      <td>...</td>\n      <td>1.0</td>\n      <td>0.0</td>\n      <td>High</td>\n      <td>0.0</td>\n      <td>10.0</td>\n      <td>0.0</td>\n      <td>male</td>\n      <td>13.0</td>\n      <td>Cat6</td>\n      <td>Cat8</td>\n    </tr>\n    <tr>\n      <th>3</th>\n      <td>0.0</td>\n      <td>1.0</td>\n      <td>1.0</td>\n      <td>1.0</td>\n      <td>1</td>\n      <td>1.0</td>\n      <td>0.0</td>\n      <td>0.0</td>\n      <td>1.0</td>\n      <td>1.0</td>\n      <td>...</td>\n      <td>1.0</td>\n      <td>0.0</td>\n      <td>Medium</td>\n      <td>0.0</td>\n      <td>3.0</td>\n      <td>0.0</td>\n      <td>male</td>\n      <td>11.0</td>\n      <td>Cat6</td>\n      <td>Cat8</td>\n    </tr>\n    <tr>\n      <th>4</th>\n      <td>0.0</td>\n      <td>0.0</td>\n      <td>0.0</td>\n      <td>1.0</td>\n      <td>1</td>\n      <td>1.0</td>\n      <td>0.0</td>\n      <td>0.0</td>\n      <td>1.0</td>\n      <td>1.0</td>\n      <td>...</td>\n      <td>1.0</td>\n      <td>0.0</td>\n      <td>Good</td>\n      <td>0.0</td>\n      <td>0.0</td>\n      <td>0.0</td>\n      <td>female</td>\n      <td>8.0</td>\n      <td>Cat5</td>\n      <td>Cat8</td>\n    </tr>\n    <tr>\n      <th>...</th>\n      <td>...</td>\n      <td>...</td>\n      <td>...</td>\n      <td>...</td>\n      <td>...</td>\n      <td>...</td>\n      <td>...</td>\n      <td>...</td>\n      <td>...</td>\n      <td>...</td>\n      <td>...</td>\n      <td>...</td>\n      <td>...</td>\n      <td>...</td>\n      <td>...</td>\n      <td>...</td>\n      <td>...</td>\n      <td>...</td>\n      <td>...</td>\n      <td>...</td>\n      <td>...</td>\n    </tr>\n    <tr>\n      <th>70687</th>\n      <td>1.0</td>\n      <td>0.0</td>\n      <td>1.0</td>\n      <td>1.0</td>\n      <td>2</td>\n      <td>0.0</td>\n      <td>0.0</td>\n      <td>0.0</td>\n      <td>0.0</td>\n      <td>0.0</td>\n      <td>...</td>\n      <td>1.0</td>\n      <td>0.0</td>\n      <td>Low</td>\n      <td>0.0</td>\n      <td>0.0</td>\n      <td>0.0</td>\n      <td>female</td>\n      <td>6.0</td>\n      <td>Cat4</td>\n      <td>Cat1</td>\n    </tr>\n    <tr>\n      <th>70688</th>\n      <td>1.0</td>\n      <td>0.0</td>\n      <td>1.0</td>\n      <td>1.0</td>\n      <td>1</td>\n      <td>1.0</td>\n      <td>0.0</td>\n      <td>1.0</td>\n      <td>0.0</td>\n      <td>1.0</td>\n      <td>...</td>\n      <td>1.0</td>\n      <td>0.0</td>\n      <td>Good</td>\n      <td>0.0</td>\n      <td>0.0</td>\n      <td>1.0</td>\n      <td>male</td>\n      <td>10.0</td>\n      <td>Cat3</td>\n      <td>Cat6</td>\n    </tr>\n    <tr>\n      <th>70689</th>\n      <td>1.0</td>\n      <td>1.0</td>\n      <td>1.0</td>\n      <td>1.0</td>\n      <td>1</td>\n      <td>0.0</td>\n      <td>0.0</td>\n      <td>1.0</td>\n      <td>0.0</td>\n      <td>1.0</td>\n      <td>...</td>\n      <td>1.0</td>\n      <td>0.0</td>\n      <td>Very Low</td>\n      <td>15.0</td>\n      <td>0.0</td>\n      <td>1.0</td>\n      <td>female</td>\n      <td>13.0</td>\n      <td>Cat6</td>\n      <td>Cat4</td>\n    </tr>\n    <tr>\n      <th>70690</th>\n      <td>1.0</td>\n      <td>1.0</td>\n      <td>1.0</td>\n      <td>1.0</td>\n      <td>1</td>\n      <td>0.0</td>\n      <td>0.0</td>\n      <td>0.0</td>\n      <td>0.0</td>\n      <td>0.0</td>\n      <td>...</td>\n      <td>1.0</td>\n      <td>0.0</td>\n      <td>Low</td>\n      <td>0.0</td>\n      <td>0.0</td>\n      <td>1.0</td>\n      <td>female</td>\n      <td>11.0</td>\n      <td>Cat2</td>\n      <td>Cat4</td>\n    </tr>\n    <tr>\n      <th>70691</th>\n      <td>1.0</td>\n      <td>1.0</td>\n      <td>1.0</td>\n      <td>1.0</td>\n      <td>1</td>\n      <td>0.0</td>\n      <td>0.0</td>\n      <td>1.0</td>\n      <td>1.0</td>\n      <td>1.0</td>\n      <td>...</td>\n      <td>1.0</td>\n      <td>0.0</td>\n      <td>Good</td>\n      <td>0.0</td>\n      <td>0.0</td>\n      <td>0.0</td>\n      <td>female</td>\n      <td>9.0</td>\n      <td>Cat6</td>\n      <td>Cat2</td>\n    </tr>\n  </tbody>\n</table>\n<p>70692 rows × 22 columns</p>\n</div>"
     },
     "execution_count": 10,
     "metadata": {},
     "output_type": "execute_result"
    }
   ],
   "source": [
    "data['BMI'] = pd.cut(data['BMI'], 5, labels=[1, 2, 3, 4, 5])\n",
    "data"
   ],
   "metadata": {
    "collapsed": false,
    "pycharm": {
     "name": "#%%\n"
    }
   }
  },
  {
   "cell_type": "markdown",
   "source": [
    "Mental Health can be categorized"
   ],
   "metadata": {
    "collapsed": false,
    "pycharm": {
     "name": "#%% md\n"
    }
   }
  },
  {
   "cell_type": "code",
   "execution_count": 11,
   "outputs": [
    {
     "data": {
      "text/plain": "<AxesSubplot:ylabel='Frequency'>"
     },
     "execution_count": 11,
     "metadata": {},
     "output_type": "execute_result"
    },
    {
     "data": {
      "text/plain": "<Figure size 432x288 with 1 Axes>",
      "image/png": "[encoded data removed]"
     },
     "metadata": {
      "needs_background": "light"
     },
     "output_type": "display_data"
    }
   ],
   "source": [
    "data.Mental_Health.plot.hist()"
   ],
   "metadata": {
    "collapsed": false,
    "pycharm": {
     "name": "#%%\n"
    }
   }
  },
  {
   "cell_type": "markdown",
   "source": [
    "This shows us Mental Health can be categorized into 3 groups"
   ],
   "metadata": {
    "collapsed": false,
    "pycharm": {
     "name": "#%% md\n"
    }
   }
  },
  {
   "cell_type": "code",
   "execution_count": 12,
   "outputs": [
    {
     "data": {
      "text/plain": "<Figure size 432x288 with 1 Axes>",
      "image/png": "[encoded data removed]"
     },
     "metadata": {
      "needs_background": "light"
     },
     "output_type": "display_data"
    }
   ],
   "source": [
    "data.Mental_Health.plot.hist(bins=3)\n",
    "data['Mental_Health'] = pd.cut(data['Mental_Health'], 3, labels=[1, 2, 3])"
   ],
   "metadata": {
    "collapsed": false,
    "pycharm": {
     "name": "#%%\n"
    }
   }
  },
  {
   "cell_type": "markdown",
   "source": [
    "Physical Health can be categorized"
   ],
   "metadata": {
    "collapsed": false,
    "pycharm": {
     "name": "#%% md\n"
    }
   }
  },
  {
   "cell_type": "code",
   "execution_count": 13,
   "outputs": [
    {
     "data": {
      "text/plain": "<AxesSubplot:ylabel='Frequency'>"
     },
     "execution_count": 13,
     "metadata": {},
     "output_type": "execute_result"
    },
    {
     "data": {
      "text/plain": "<Figure size 432x288 with 1 Axes>",
      "image/png": "[encoded data removed]"
     },
     "metadata": {
      "needs_background": "light"
     },
     "output_type": "display_data"
    }
   ],
   "source": [
    "data.Physical_Health.plot.hist()"
   ],
   "metadata": {
    "collapsed": false,
    "pycharm": {
     "name": "#%%\n"
    }
   }
  },
  {
   "cell_type": "markdown",
   "source": [
    "This shows us Mental Health can be categorized into 3 groups"
   ],
   "metadata": {
    "collapsed": false
   }
  },
  {
   "cell_type": "code",
   "execution_count": 14,
   "outputs": [
    {
     "data": {
      "text/plain": "<Figure size 432x288 with 1 Axes>",
      "image/png": "[encoded data removed]"
     },
     "metadata": {
      "needs_background": "light"
     },
     "output_type": "display_data"
    }
   ],
   "source": [
    "data.Physical_Health.plot.hist(bins=4)\n",
    "data['Physical_Health'] = pd.cut(data['Physical_Health'], 4, labels=[1, 2, 3, 4])"
   ],
   "metadata": {
    "collapsed": false,
    "pycharm": {
     "name": "#%%\n"
    }
   }
  },
  {
   "cell_type": "markdown",
   "source": [
    "Age can be categorized"
   ],
   "metadata": {
    "collapsed": false,
    "pycharm": {
     "name": "#%% md\n"
    }
   }
  },
  {
   "cell_type": "code",
   "execution_count": 15,
   "outputs": [
    {
     "data": {
      "text/plain": "<AxesSubplot:ylabel='Frequency'>"
     },
     "execution_count": 15,
     "metadata": {},
     "output_type": "execute_result"
    },
    {
     "data": {
      "text/plain": "<Figure size 432x288 with 1 Axes>",
      "image/png": "[encoded data removed]"
     },
     "metadata": {
      "needs_background": "light"
     },
     "output_type": "display_data"
    }
   ],
   "source": [
    "data.Age.plot.hist(bins=10)"
   ],
   "metadata": {
    "collapsed": false,
    "pycharm": {
     "name": "#%%\n"
    }
   }
  },
  {
   "cell_type": "markdown",
   "source": [
    "This shows us Mental Health can be categorized into 10 groups"
   ],
   "metadata": {
    "collapsed": false
   }
  },
  {
   "cell_type": "code",
   "execution_count": 16,
   "outputs": [],
   "source": [
    "data['Age'] = pd.cut(data['Age'], 10, labels=[1, 2, 3, 4, 5, 6, 7, 8, 9, 10])"
   ],
   "metadata": {
    "collapsed": false,
    "pycharm": {
     "name": "#%%\n"
    }
   }
  },
  {
   "cell_type": "markdown",
   "source": [
    "## Encode"
   ],
   "metadata": {
    "collapsed": false,
    "pycharm": {
     "name": "#%% md\n"
    }
   }
  },
  {
   "cell_type": "code",
   "execution_count": 17,
   "outputs": [
    {
     "data": {
      "text/plain": "       Diabetes_binary  HighBP  High_Cholesterol  Cholesterol_Check BMI  \\\n0                  0.0     1.0               0.0                1.0   1   \n1                  0.0     1.0               1.0                1.0   1   \n2                  0.0     0.0               0.0                1.0   1   \n3                  0.0     1.0               1.0                1.0   1   \n4                  0.0     0.0               0.0                1.0   1   \n...                ...     ...               ...                ...  ..   \n70687              1.0     0.0               1.0                1.0   2   \n70688              1.0     0.0               1.0                1.0   1   \n70689              1.0     1.0               1.0                1.0   1   \n70690              1.0     1.0               1.0                1.0   1   \n70691              1.0     1.0               1.0                1.0   1   \n\n       Smoker  Stroke  HeartDiseaseorAttack  Physical_Activity  Fruits  ...  \\\n0         0.0     0.0                   0.0                1.0     0.0  ...   \n1         1.0     1.0                   0.0                0.0     1.0  ...   \n2         0.0     0.0                   0.0                1.0     1.0  ...   \n3         1.0     0.0                   0.0                1.0     1.0  ...   \n4         1.0     0.0                   0.0                1.0     1.0  ...   \n...       ...     ...                   ...                ...     ...  ...   \n70687     0.0     0.0                   0.0                0.0     0.0  ...   \n70688     1.0     0.0                   1.0                0.0     1.0  ...   \n70689     0.0     0.0                   1.0                0.0     1.0  ...   \n70690     0.0     0.0                   0.0                0.0     0.0  ...   \n70691     0.0     0.0                   1.0                1.0     1.0  ...   \n\n       Cat6  Income_Cat1  Income_Cat2  Income_Cat3 Income_Cat4 Income_Cat5  \\\n0         1            0            0            0           0           0   \n1         1            0            0            0           0           0   \n2         1            0            0            0           0           0   \n3         1            0            0            0           0           0   \n4         0            0            0            0           0           0   \n...     ...          ...          ...          ...         ...         ...   \n70687     0            1            0            0           0           0   \n70688     0            0            0            0           0           0   \n70689     1            0            0            0           1           0   \n70690     0            0            0            0           1           0   \n70691     1            0            1            0           0           0   \n\n       Income_Cat6 Income_Cat7  Income_Cat8  Income_Unknow  \n0                0           0            1              0  \n1                0           0            1              0  \n2                0           0            1              0  \n3                0           0            1              0  \n4                0           0            1              0  \n...            ...         ...          ...            ...  \n70687            0           0            0              0  \n70688            1           0            0              0  \n70689            0           0            0              0  \n70690            0           0            0              0  \n70691            0           0            0              0  \n\n[70692 rows x 40 columns]",
      "text/html": "<div>\n<style scoped>\n    .dataframe tbody tr th:only-of-type {\n        vertical-align: middle;\n    }\n\n    .dataframe tbody tr th {\n        vertical-align: top;\n    }\n\n    .dataframe thead th {\n        text-align: right;\n    }\n</style>\n<table border=\"1\" class=\"dataframe\">\n  <thead>\n    <tr style=\"text-align: right;\">\n      <th></th>\n      <th>Diabetes_binary</th>\n      <th>HighBP</th>\n      <th>High_Cholesterol</th>\n      <th>Cholesterol_Check</th>\n      <th>BMI</th>\n      <th>Smoker</th>\n      <th>Stroke</th>\n      <th>HeartDiseaseorAttack</th>\n      <th>Physical_Activity</th>\n      <th>Fruits</th>\n      <th>...</th>\n      <th>Cat6</th>\n      <th>Income_Cat1</th>\n      <th>Income_Cat2</th>\n      <th>Income_Cat3</th>\n      <th>Income_Cat4</th>\n      <th>Income_Cat5</th>\n      <th>Income_Cat6</th>\n      <th>Income_Cat7</th>\n      <th>Income_Cat8</th>\n      <th>Income_Unknow</th>\n    </tr>\n  </thead>\n  <tbody>\n    <tr>\n      <th>0</th>\n      <td>0.0</td>\n      <td>1.0</td>\n      <td>0.0</td>\n      <td>1.0</td>\n      <td>1</td>\n      <td>0.0</td>\n      <td>0.0</td>\n      <td>0.0</td>\n      <td>1.0</td>\n      <td>0.0</td>\n      <td>...</td>\n      <td>1</td>\n      <td>0</td>\n      <td>0</td>\n      <td>0</td>\n      <td>0</td>\n      <td>0</td>\n      <td>0</td>\n      <td>0</td>\n      <td>1</td>\n      <td>0</td>\n    </tr>\n    <tr>\n      <th>1</th>\n      <td>0.0</td>\n      <td>1.0</td>\n      <td>1.0</td>\n      <td>1.0</td>\n      <td>1</td>\n      <td>1.0</td>\n      <td>1.0</td>\n      <td>0.0</td>\n      <td>0.0</td>\n      <td>1.0</td>\n      <td>...</td>\n      <td>1</td>\n      <td>0</td>\n      <td>0</td>\n      <td>0</td>\n      <td>0</td>\n      <td>0</td>\n      <td>0</td>\n      <td>0</td>\n      <td>1</td>\n      <td>0</td>\n    </tr>\n    <tr>\n      <th>2</th>\n      <td>0.0</td>\n      <td>0.0</td>\n      <td>0.0</td>\n      <td>1.0</td>\n      <td>1</td>\n      <td>0.0</td>\n      <td>0.0</td>\n      <td>0.0</td>\n      <td>1.0</td>\n      <td>1.0</td>\n      <td>...</td>\n      <td>1</td>\n      <td>0</td>\n      <td>0</td>\n      <td>0</td>\n      <td>0</td>\n      <td>0</td>\n      <td>0</td>\n      <td>0</td>\n      <td>1</td>\n      <td>0</td>\n    </tr>\n    <tr>\n      <th>3</th>\n      <td>0.0</td>\n      <td>1.0</td>\n      <td>1.0</td>\n      <td>1.0</td>\n      <td>1</td>\n      <td>1.0</td>\n      <td>0.0</td>\n      <td>0.0</td>\n      <td>1.0</td>\n      <td>1.0</td>\n      <td>...</td>\n      <td>1</td>\n      <td>0</td>\n      <td>0</td>\n      <td>0</td>\n      <td>0</td>\n      <td>0</td>\n      <td>0</td>\n      <td>0</td>\n      <td>1</td>\n      <td>0</td>\n    </tr>\n    <tr>\n      <th>4</th>\n      <td>0.0</td>\n      <td>0.0</td>\n      <td>0.0</td>\n      <td>1.0</td>\n      <td>1</td>\n      <td>1.0</td>\n      <td>0.0</td>\n      <td>0.0</td>\n      <td>1.0</td>\n      <td>1.0</td>\n      <td>...</td>\n      <td>0</td>\n      <td>0</td>\n      <td>0</td>\n      <td>0</td>\n      <td>0</td>\n      <td>0</td>\n      <td>0</td>\n      <td>0</td>\n      <td>1</td>\n      <td>0</td>\n    </tr>\n    <tr>\n      <th>...</th>\n      <td>...</td>\n      <td>...</td>\n      <td>...</td>\n      <td>...</td>\n      <td>...</td>\n      <td>...</td>\n      <td>...</td>\n      <td>...</td>\n      <td>...</td>\n      <td>...</td>\n      <td>...</td>\n      <td>...</td>\n      <td>...</td>\n      <td>...</td>\n      <td>...</td>\n      <td>...</td>\n      <td>...</td>\n      <td>...</td>\n      <td>...</td>\n      <td>...</td>\n      <td>...</td>\n    </tr>\n    <tr>\n      <th>70687</th>\n      <td>1.0</td>\n      <td>0.0</td>\n      <td>1.0</td>\n      <td>1.0</td>\n      <td>2</td>\n      <td>0.0</td>\n      <td>0.0</td>\n      <td>0.0</td>\n      <td>0.0</td>\n      <td>0.0</td>\n      <td>...</td>\n      <td>0</td>\n      <td>1</td>\n      <td>0</td>\n      <td>0</td>\n      <td>0</td>\n      <td>0</td>\n      <td>0</td>\n      <td>0</td>\n      <td>0</td>\n      <td>0</td>\n    </tr>\n    <tr>\n      <th>70688</th>\n      <td>1.0</td>\n      <td>0.0</td>\n      <td>1.0</td>\n      <td>1.0</td>\n      <td>1</td>\n      <td>1.0</td>\n      <td>0.0</td>\n      <td>1.0</td>\n      <td>0.0</td>\n      <td>1.0</td>\n      <td>...</td>\n      <td>0</td>\n      <td>0</td>\n      <td>0</td>\n      <td>0</td>\n      <td>0</td>\n      <td>0</td>\n      <td>1</td>\n      <td>0</td>\n      <td>0</td>\n      <td>0</td>\n    </tr>\n    <tr>\n      <th>70689</th>\n      <td>1.0</td>\n      <td>1.0</td>\n      <td>1.0</td>\n      <td>1.0</td>\n      <td>1</td>\n      <td>0.0</td>\n      <td>0.0</td>\n      <td>1.0</td>\n      <td>0.0</td>\n      <td>1.0</td>\n      <td>...</td>\n      <td>1</td>\n      <td>0</td>\n      <td>0</td>\n      <td>0</td>\n      <td>1</td>\n      <td>0</td>\n      <td>0</td>\n      <td>0</td>\n      <td>0</td>\n      <td>0</td>\n    </tr>\n    <tr>\n      <th>70690</th>\n      <td>1.0</td>\n      <td>1.0</td>\n      <td>1.0</td>\n      <td>1.0</td>\n      <td>1</td>\n      <td>0.0</td>\n      <td>0.0</td>\n      <td>0.0</td>\n      <td>0.0</td>\n      <td>0.0</td>\n      <td>...</td>\n      <td>0</td>\n      <td>0</td>\n      <td>0</td>\n      <td>0</td>\n      <td>1</td>\n      <td>0</td>\n      <td>0</td>\n      <td>0</td>\n      <td>0</td>\n      <td>0</td>\n    </tr>\n    <tr>\n      <th>70691</th>\n      <td>1.0</td>\n      <td>1.0</td>\n      <td>1.0</td>\n      <td>1.0</td>\n      <td>1</td>\n      <td>0.0</td>\n      <td>0.0</td>\n      <td>1.0</td>\n      <td>1.0</td>\n      <td>1.0</td>\n      <td>...</td>\n      <td>1</td>\n      <td>0</td>\n      <td>1</td>\n      <td>0</td>\n      <td>0</td>\n      <td>0</td>\n      <td>0</td>\n      <td>0</td>\n      <td>0</td>\n      <td>0</td>\n    </tr>\n  </tbody>\n</table>\n<p>70692 rows × 40 columns</p>\n</div>"
     },
     "execution_count": 17,
     "metadata": {},
     "output_type": "execute_result"
    }
   ],
   "source": [
    "encoded = pd.get_dummies(data.General_Health)\n",
    "data = pd.concat([data, encoded], axis=1)\n",
    "data = data.drop('General_Health', axis=1)\n",
    "\n",
    "encoded = pd.get_dummies(data.Sex)\n",
    "data = pd.concat([data, encoded], axis=1)\n",
    "data = data.drop('Sex', axis=1)\n",
    "\n",
    "encoded = pd.get_dummies(data.Education)\n",
    "data = pd.concat([data, encoded], axis=1)\n",
    "data = data.drop('Education', axis=1)\n",
    "\n",
    "encoded = pd.get_dummies(data.Income)\n",
    "encoded = encoded.rename(columns={\"Cat1\": \"Income_Cat1\",\n",
    "                        \"Cat2\": \"Income_Cat2\",\n",
    "                        \"Cat3\": \"Income_Cat3\",\n",
    "                        \"Cat4\": \"Income_Cat4\",\n",
    "                        \"Cat5\": \"Income_Cat5\",\n",
    "                        \"Cat6\": \"Income_Cat6\",\n",
    "                        \"Cat7\": \"Income_Cat7\",\n",
    "                        \"Cat8\": \"Income_Cat8\",\n",
    "                        \"Unknown\": \"Income_Unknow\"})\n",
    "data = pd.concat([data, encoded], axis=1)\n",
    "data = data.drop('Income', axis=1)\n",
    "\n",
    "data"
   ],
   "metadata": {
    "collapsed": false,
    "pycharm": {
     "name": "#%%\n"
    }
   }
  },
  {
   "cell_type": "markdown",
   "source": [
    "## Separate Labels"
   ],
   "metadata": {
    "collapsed": false,
    "pycharm": {
     "name": "#%% md\n"
    }
   }
  },
  {
   "cell_type": "code",
   "execution_count": 18,
   "outputs": [
    {
     "name": "stdout",
     "output_type": "stream",
     "text": [
      "(70692, 39)\n",
      "(70692,)\n"
     ]
    },
    {
     "name": "stderr",
     "output_type": "stream",
     "text": [
      "C:\\Users\\mrahm\\AppData\\Local\\Temp\\ipykernel_25124\\3596824401.py:2: FutureWarning: In a future version of pandas all arguments of DataFrame.drop except for the argument 'labels' will be keyword-only.\n",
      "  X = np.array(data.drop(['Diabetes_binary'], 1))\n"
     ]
    }
   ],
   "source": [
    "y = np.array(data['Diabetes_binary'])\n",
    "X = np.array(data.drop(['Diabetes_binary'], 1))\n",
    "print(X.shape)\n",
    "print(y.shape)"
   ],
   "metadata": {
    "collapsed": false,
    "pycharm": {
     "name": "#%%\n"
    }
   }
  },
  {
   "cell_type": "markdown",
   "source": [
    "# XGBoost Classifier"
   ],
   "metadata": {
    "collapsed": false,
    "pycharm": {
     "name": "#%% md\n"
    }
   }
  },
  {
   "cell_type": "code",
   "execution_count": 19,
   "outputs": [],
   "source": [
    "X_train, X_test, y_train, y_test = train_test_split(X, y, random_state=0, train_size = .8)\n",
    "X_train, X_val, y_train, y_val = train_test_split(X_train, y_train, random_state=1, train_size = .8)\n",
    "\n"
   ],
   "metadata": {
    "collapsed": false,
    "pycharm": {
     "name": "#%%\n"
    }
   }
  },
  {
   "cell_type": "code",
   "execution_count": 20,
   "outputs": [
    {
     "name": "stderr",
     "output_type": "stream",
     "text": [
      "c:\\users\\mrahm\\pycharmprojects\\pythonprojectz\\venv\\lib\\site-packages\\xgboost\\sklearn.py:793: UserWarning: `early_stopping_rounds` in `fit` method is deprecated for better compatibility with scikit-learn, use `early_stopping_rounds` in constructor or`set_params` instead.\n",
      "  warnings.warn(\n"
     ]
    },
    {
     "name": "stdout",
     "output_type": "stream",
     "text": [
      "[20:41:32] WARNING: C:/Users/Administrator/workspace/xgboost-win64_release_1.6.0/src/learner.cc:627: \n",
      "Parameters: { \"Random_seed\" } might not be used.\n",
      "\n",
      "  This could be a false alarm, with some parameters getting used by language bindings but\n",
      "  then being mistakenly passed down to XGBoost core, or some parameter actually being used\n",
      "  but getting flagged wrongly here. Please open an issue if you find any such cases.\n",
      "\n",
      "\n",
      "[0]\tvalidation_0-auc:0.78644\tvalidation_1-auc:0.78096\n",
      "[1]\tvalidation_0-auc:0.79367\tvalidation_1-auc:0.78965\n",
      "[2]\tvalidation_0-auc:0.80246\tvalidation_1-auc:0.79852\n",
      "[3]\tvalidation_0-auc:0.80677\tvalidation_1-auc:0.80320\n",
      "[4]\tvalidation_0-auc:0.80755\tvalidation_1-auc:0.80364\n",
      "[5]\tvalidation_0-auc:0.80862\tvalidation_1-auc:0.80419\n",
      "[6]\tvalidation_0-auc:0.81122\tvalidation_1-auc:0.80767\n",
      "[7]\tvalidation_0-auc:0.81227\tvalidation_1-auc:0.80869\n",
      "[8]\tvalidation_0-auc:0.81253\tvalidation_1-auc:0.80902\n",
      "[9]\tvalidation_0-auc:0.81304\tvalidation_1-auc:0.80920\n",
      "[10]\tvalidation_0-auc:0.81487\tvalidation_1-auc:0.81128\n",
      "[11]\tvalidation_0-auc:0.81545\tvalidation_1-auc:0.81191\n",
      "[12]\tvalidation_0-auc:0.81633\tvalidation_1-auc:0.81305\n",
      "[13]\tvalidation_0-auc:0.81806\tvalidation_1-auc:0.81467\n",
      "[14]\tvalidation_0-auc:0.81873\tvalidation_1-auc:0.81553\n",
      "[15]\tvalidation_0-auc:0.81905\tvalidation_1-auc:0.81568\n",
      "[16]\tvalidation_0-auc:0.81978\tvalidation_1-auc:0.81658\n",
      "[17]\tvalidation_0-auc:0.82039\tvalidation_1-auc:0.81715\n",
      "[18]\tvalidation_0-auc:0.82073\tvalidation_1-auc:0.81749\n",
      "[19]\tvalidation_0-auc:0.82123\tvalidation_1-auc:0.81795\n",
      "[20]\tvalidation_0-auc:0.82151\tvalidation_1-auc:0.81828\n",
      "[21]\tvalidation_0-auc:0.82182\tvalidation_1-auc:0.81862\n",
      "[22]\tvalidation_0-auc:0.82230\tvalidation_1-auc:0.81916\n",
      "[23]\tvalidation_0-auc:0.82268\tvalidation_1-auc:0.81975\n",
      "[24]\tvalidation_0-auc:0.82333\tvalidation_1-auc:0.82023\n",
      "[25]\tvalidation_0-auc:0.82360\tvalidation_1-auc:0.82061\n",
      "[26]\tvalidation_0-auc:0.82396\tvalidation_1-auc:0.82088\n",
      "[27]\tvalidation_0-auc:0.82444\tvalidation_1-auc:0.82124\n",
      "[28]\tvalidation_0-auc:0.82467\tvalidation_1-auc:0.82156\n",
      "[29]\tvalidation_0-auc:0.82497\tvalidation_1-auc:0.82185\n",
      "[30]\tvalidation_0-auc:0.82519\tvalidation_1-auc:0.82210\n",
      "[31]\tvalidation_0-auc:0.82547\tvalidation_1-auc:0.82225\n",
      "[32]\tvalidation_0-auc:0.82563\tvalidation_1-auc:0.82243\n",
      "[33]\tvalidation_0-auc:0.82593\tvalidation_1-auc:0.82265\n",
      "[34]\tvalidation_0-auc:0.82611\tvalidation_1-auc:0.82286\n",
      "[35]\tvalidation_0-auc:0.82641\tvalidation_1-auc:0.82307\n",
      "[36]\tvalidation_0-auc:0.82664\tvalidation_1-auc:0.82334\n",
      "[37]\tvalidation_0-auc:0.82678\tvalidation_1-auc:0.82345\n",
      "[38]\tvalidation_0-auc:0.82693\tvalidation_1-auc:0.82357\n",
      "[39]\tvalidation_0-auc:0.82711\tvalidation_1-auc:0.82374\n",
      "[40]\tvalidation_0-auc:0.82729\tvalidation_1-auc:0.82396\n",
      "[41]\tvalidation_0-auc:0.82741\tvalidation_1-auc:0.82405\n",
      "[42]\tvalidation_0-auc:0.82767\tvalidation_1-auc:0.82423\n",
      "[43]\tvalidation_0-auc:0.82780\tvalidation_1-auc:0.82436\n",
      "[44]\tvalidation_0-auc:0.82792\tvalidation_1-auc:0.82441\n",
      "[45]\tvalidation_0-auc:0.82801\tvalidation_1-auc:0.82444\n",
      "[46]\tvalidation_0-auc:0.82821\tvalidation_1-auc:0.82446\n",
      "[47]\tvalidation_0-auc:0.82839\tvalidation_1-auc:0.82456\n",
      "[48]\tvalidation_0-auc:0.82851\tvalidation_1-auc:0.82458\n",
      "[49]\tvalidation_0-auc:0.82863\tvalidation_1-auc:0.82458\n",
      "[50]\tvalidation_0-auc:0.82875\tvalidation_1-auc:0.82463\n",
      "[51]\tvalidation_0-auc:0.82884\tvalidation_1-auc:0.82472\n",
      "[52]\tvalidation_0-auc:0.82899\tvalidation_1-auc:0.82476\n",
      "[53]\tvalidation_0-auc:0.82916\tvalidation_1-auc:0.82479\n",
      "[54]\tvalidation_0-auc:0.82932\tvalidation_1-auc:0.82482\n",
      "[55]\tvalidation_0-auc:0.82951\tvalidation_1-auc:0.82492\n",
      "[56]\tvalidation_0-auc:0.82958\tvalidation_1-auc:0.82498\n",
      "[57]\tvalidation_0-auc:0.82962\tvalidation_1-auc:0.82495\n",
      "[58]\tvalidation_0-auc:0.82969\tvalidation_1-auc:0.82497\n",
      "[59]\tvalidation_0-auc:0.82979\tvalidation_1-auc:0.82516\n",
      "[60]\tvalidation_0-auc:0.82990\tvalidation_1-auc:0.82520\n",
      "[61]\tvalidation_0-auc:0.82998\tvalidation_1-auc:0.82529\n",
      "[62]\tvalidation_0-auc:0.83010\tvalidation_1-auc:0.82530\n",
      "[63]\tvalidation_0-auc:0.83021\tvalidation_1-auc:0.82537\n",
      "[64]\tvalidation_0-auc:0.83035\tvalidation_1-auc:0.82546\n",
      "[65]\tvalidation_0-auc:0.83042\tvalidation_1-auc:0.82545\n",
      "[66]\tvalidation_0-auc:0.83052\tvalidation_1-auc:0.82549\n",
      "[67]\tvalidation_0-auc:0.83058\tvalidation_1-auc:0.82547\n",
      "[68]\tvalidation_0-auc:0.83070\tvalidation_1-auc:0.82552\n",
      "[69]\tvalidation_0-auc:0.83078\tvalidation_1-auc:0.82558\n",
      "[70]\tvalidation_0-auc:0.83086\tvalidation_1-auc:0.82556\n",
      "[71]\tvalidation_0-auc:0.83089\tvalidation_1-auc:0.82561\n",
      "[72]\tvalidation_0-auc:0.83095\tvalidation_1-auc:0.82560\n",
      "[73]\tvalidation_0-auc:0.83107\tvalidation_1-auc:0.82555\n",
      "[74]\tvalidation_0-auc:0.83117\tvalidation_1-auc:0.82560\n",
      "[75]\tvalidation_0-auc:0.83127\tvalidation_1-auc:0.82567\n",
      "[76]\tvalidation_0-auc:0.83137\tvalidation_1-auc:0.82571\n",
      "[77]\tvalidation_0-auc:0.83143\tvalidation_1-auc:0.82578\n",
      "[78]\tvalidation_0-auc:0.83157\tvalidation_1-auc:0.82583\n",
      "[79]\tvalidation_0-auc:0.83162\tvalidation_1-auc:0.82582\n",
      "[80]\tvalidation_0-auc:0.83168\tvalidation_1-auc:0.82583\n",
      "[81]\tvalidation_0-auc:0.83177\tvalidation_1-auc:0.82580\n",
      "[82]\tvalidation_0-auc:0.83180\tvalidation_1-auc:0.82584\n",
      "[83]\tvalidation_0-auc:0.83187\tvalidation_1-auc:0.82586\n",
      "[84]\tvalidation_0-auc:0.83197\tvalidation_1-auc:0.82585\n",
      "[85]\tvalidation_0-auc:0.83203\tvalidation_1-auc:0.82582\n",
      "[86]\tvalidation_0-auc:0.83210\tvalidation_1-auc:0.82586\n",
      "[87]\tvalidation_0-auc:0.83222\tvalidation_1-auc:0.82580\n",
      "[88]\tvalidation_0-auc:0.83232\tvalidation_1-auc:0.82583\n",
      "[89]\tvalidation_0-auc:0.83236\tvalidation_1-auc:0.82585\n",
      "[90]\tvalidation_0-auc:0.83246\tvalidation_1-auc:0.82576\n",
      "[91]\tvalidation_0-auc:0.83252\tvalidation_1-auc:0.82581\n",
      "[92]\tvalidation_0-auc:0.83260\tvalidation_1-auc:0.82580\n",
      "[93]\tvalidation_0-auc:0.83269\tvalidation_1-auc:0.82592\n",
      "[94]\tvalidation_0-auc:0.83280\tvalidation_1-auc:0.82597\n",
      "[95]\tvalidation_0-auc:0.83289\tvalidation_1-auc:0.82589\n",
      "[96]\tvalidation_0-auc:0.83294\tvalidation_1-auc:0.82593\n",
      "[97]\tvalidation_0-auc:0.83301\tvalidation_1-auc:0.82589\n",
      "[98]\tvalidation_0-auc:0.83308\tvalidation_1-auc:0.82593\n",
      "[99]\tvalidation_0-auc:0.83316\tvalidation_1-auc:0.82588\n",
      "[100]\tvalidation_0-auc:0.83324\tvalidation_1-auc:0.82588\n",
      "[101]\tvalidation_0-auc:0.83331\tvalidation_1-auc:0.82590\n",
      "[102]\tvalidation_0-auc:0.83337\tvalidation_1-auc:0.82585\n",
      "[103]\tvalidation_0-auc:0.83341\tvalidation_1-auc:0.82585\n"
     ]
    },
    {
     "data": {
      "text/plain": "XGBClassifier(Random_seed=123, base_score=0.5, booster='gbtree', callbacks=None,\n              colsample_bylevel=1, colsample_bynode=1, colsample_bytree=1,\n              early_stopping_rounds=None, enable_categorical=False,\n              eval_metric='auc', gamma=0, gpu_id=-1, grow_policy='depthwise',\n              importance_type=None, interaction_constraints='',\n              learning_rate=0.1, max_bin=256, max_cat_to_onehot=4,\n              max_delta_step=0, max_depth=4, max_leaves=0, min_child_weight=1,\n              missing=nan, monotone_constraints='()', n_estimators=200,\n              n_jobs=0, num_parallel_tree=1, predictor='auto', random_state=0,\n              reg_alpha=0, ...)",
      "text/html": "<style>#sk-container-id-1 {color: black;background-color: white;}#sk-container-id-1 pre{padding: 0;}#sk-container-id-1 div.sk-toggleable {background-color: white;}#sk-container-id-1 label.sk-toggleable__label {cursor: pointer;display: block;width: 100%;margin-bottom: 0;padding: 0.3em;box-sizing: border-box;text-align: center;}#sk-container-id-1 label.sk-toggleable__label-arrow:before {content: \"▸\";float: left;margin-right: 0.25em;color: #696969;}#sk-container-id-1 label.sk-toggleable__label-arrow:hover:before {color: black;}#sk-container-id-1 div.sk-estimator:hover label.sk-toggleable__label-arrow:before {color: black;}#sk-container-id-1 div.sk-toggleable__content {max-height: 0;max-width: 0;overflow: hidden;text-align: left;background-color: #f0f8ff;}#sk-container-id-1 div.sk-toggleable__content pre {margin: 0.2em;color: black;border-radius: 0.25em;background-color: #f0f8ff;}#sk-container-id-1 input.sk-toggleable__control:checked~div.sk-toggleable__content {max-height: 200px;max-width: 100%;overflow: auto;}#sk-container-id-1 input.sk-toggleable__control:checked~label.sk-toggleable__label-arrow:before {content: \"▾\";}#sk-container-id-1 div.sk-estimator input.sk-toggleable__control:checked~label.sk-toggleable__label {background-color: #d4ebff;}#sk-container-id-1 div.sk-label input.sk-toggleable__control:checked~label.sk-toggleable__label {background-color: #d4ebff;}#sk-container-id-1 input.sk-hidden--visually {border: 0;clip: rect(1px 1px 1px 1px);clip: rect(1px, 1px, 1px, 1px);height: 1px;margin: -1px;overflow: hidden;padding: 0;position: absolute;width: 1px;}#sk-container-id-1 div.sk-estimator {font-family: monospace;background-color: #f0f8ff;border: 1px dotted black;border-radius: 0.25em;box-sizing: border-box;margin-bottom: 0.5em;}#sk-container-id-1 div.sk-estimator:hover {background-color: #d4ebff;}#sk-container-id-1 div.sk-parallel-item::after {content: \"\";width: 100%;border-bottom: 1px solid gray;flex-grow: 1;}#sk-container-id-1 div.sk-label:hover label.sk-toggleable__label {background-color: #d4ebff;}#sk-container-id-1 div.sk-serial::before {content: \"\";position: absolute;border-left: 1px solid gray;box-sizing: border-box;top: 0;bottom: 0;left: 50%;z-index: 0;}#sk-container-id-1 div.sk-serial {display: flex;flex-direction: column;align-items: center;background-color: white;padding-right: 0.2em;padding-left: 0.2em;position: relative;}#sk-container-id-1 div.sk-item {position: relative;z-index: 1;}#sk-container-id-1 div.sk-parallel {display: flex;align-items: stretch;justify-content: center;background-color: white;position: relative;}#sk-container-id-1 div.sk-item::before, #sk-container-id-1 div.sk-parallel-item::before {content: \"\";position: absolute;border-left: 1px solid gray;box-sizing: border-box;top: 0;bottom: 0;left: 50%;z-index: -1;}#sk-container-id-1 div.sk-parallel-item {display: flex;flex-direction: column;z-index: 1;position: relative;background-color: white;}#sk-container-id-1 div.sk-parallel-item:first-child::after {align-self: flex-end;width: 50%;}#sk-container-id-1 div.sk-parallel-item:last-child::after {align-self: flex-start;width: 50%;}#sk-container-id-1 div.sk-parallel-item:only-child::after {width: 0;}#sk-container-id-1 div.sk-dashed-wrapped {border: 1px dashed gray;margin: 0 0.4em 0.5em 0.4em;box-sizing: border-box;padding-bottom: 0.4em;background-color: white;}#sk-container-id-1 div.sk-label label {font-family: monospace;font-weight: bold;display: inline-block;line-height: 1.2em;}#sk-container-id-1 div.sk-label-container {text-align: center;}#sk-container-id-1 div.sk-container {/* jupyter's `normalize.less` sets `[hidden] { display: none; }` but bootstrap.min.css set `[hidden] { display: none !important; }` so we also need the `!important` here to be able to override the default hidden behavior on the sphinx rendered scikit-learn.org. See: https://github.com/scikit-learn/scikit-learn/issues/21755 */display: inline-block !important;position: relative;}#sk-container-id-1 div.sk-text-repr-fallback {display: none;}</style><div id=\"sk-container-id-1\" class=\"sk-top-container\"><div class=\"sk-text-repr-fallback\"><pre>XGBClassifier(Random_seed=123, base_score=0.5, booster=&#x27;gbtree&#x27;, callbacks=None,\n              colsample_bylevel=1, colsample_bynode=1, colsample_bytree=1,\n              early_stopping_rounds=None, enable_categorical=False,\n              eval_metric=&#x27;auc&#x27;, gamma=0, gpu_id=-1, grow_policy=&#x27;depthwise&#x27;,\n              importance_type=None, interaction_constraints=&#x27;&#x27;,\n              learning_rate=0.1, max_bin=256, max_cat_to_onehot=4,\n              max_delta_step=0, max_depth=4, max_leaves=0, min_child_weight=1,\n              missing=nan, monotone_constraints=&#x27;()&#x27;, n_estimators=200,\n              n_jobs=0, num_parallel_tree=1, predictor=&#x27;auto&#x27;, random_state=0,\n              reg_alpha=0, ...)</pre><b>In a Jupyter environment, please rerun this cell to show the HTML representation or trust the notebook. <br />On GitHub, the HTML representation is unable to render, please try loading this page with nbviewer.org.</b></div><div class=\"sk-container\" hidden><div class=\"sk-item\"><div class=\"sk-estimator sk-toggleable\"><input class=\"sk-toggleable__control sk-hidden--visually\" id=\"sk-estimator-id-1\" type=\"checkbox\" checked><label for=\"sk-estimator-id-1\" class=\"sk-toggleable__label sk-toggleable__label-arrow\">XGBClassifier</label><div class=\"sk-toggleable__content\"><pre>XGBClassifier(Random_seed=123, base_score=0.5, booster=&#x27;gbtree&#x27;, callbacks=None,\n              colsample_bylevel=1, colsample_bynode=1, colsample_bytree=1,\n              early_stopping_rounds=None, enable_categorical=False,\n              eval_metric=&#x27;auc&#x27;, gamma=0, gpu_id=-1, grow_policy=&#x27;depthwise&#x27;,\n              importance_type=None, interaction_constraints=&#x27;&#x27;,\n              learning_rate=0.1, max_bin=256, max_cat_to_onehot=4,\n              max_delta_step=0, max_depth=4, max_leaves=0, min_child_weight=1,\n              missing=nan, monotone_constraints=&#x27;()&#x27;, n_estimators=200,\n              n_jobs=0, num_parallel_tree=1, predictor=&#x27;auto&#x27;, random_state=0,\n              reg_alpha=0, ...)</pre></div></div></div></div></div>"
     },
     "execution_count": 20,
     "metadata": {},
     "output_type": "execute_result"
    }
   ],
   "source": [
    "classifier = XGBClassifier(learning_rate=0.1, max_depth=4, n_estimators=200,\n",
    "                           subsample=0.5, colsample_bytree=1, Random_seed=123,\n",
    "                           eval_metric='auc', verbosity=1)\n",
    "classifier.fit(X_train, y_train, eval_set=[(X_train , y_train),(X_val,y_val)],early_stopping_rounds=10)"
   ],
   "metadata": {
    "collapsed": false,
    "pycharm": {
     "name": "#%%\n"
    }
   }
  },
  {
   "cell_type": "markdown",
   "source": [
    "## Prediction"
   ],
   "metadata": {
    "collapsed": false,
    "pycharm": {
     "name": "#%% md\n"
    }
   }
  },
  {
   "cell_type": "code",
   "execution_count": 21,
   "outputs": [
    {
     "name": "stdout",
     "output_type": "stream",
     "text": [
      "Accuracy: 0.7506188556474999\n",
      "Precision: 0.7350874952101162\n",
      "Recall: 0.7985292077147218\n",
      "Confusion Matrix\n"
     ]
    },
    {
     "data": {
      "text/plain": "array([[4858, 2074],\n       [1452, 5755]], dtype=int64)"
     },
     "execution_count": 21,
     "metadata": {},
     "output_type": "execute_result"
    }
   ],
   "source": [
    "y_pred = classifier.predict(X_test)\n",
    "predictions = [round(value) for value in y_pred]\n",
    "accuracy = accuracy_score(y_test, predictions)\n",
    "precision = precision_score(y_test, predictions)\n",
    "recall = recall_score(y_test, y_pred)\n",
    "print(\"Accuracy:\", accuracy)\n",
    "print(\"Precision:\", precision)\n",
    "print(\"Recall:\", recall)\n",
    "print(\"Confusion Matrix\")\n",
    "confusion_matrix(y_test, y_pred)"
   ],
   "metadata": {
    "collapsed": false,
    "pycharm": {
     "name": "#%%\n"
    }
   }
  },
  {
   "cell_type": "markdown",
   "source": [
    "# Hyperparameters"
   ],
   "metadata": {
    "collapsed": false,
    "pycharm": {
     "name": "#%% md\n"
    }
   }
  },
  {
   "cell_type": "code",
   "execution_count": 22,
   "outputs": [
    {
     "data": {
      "text/plain": "{'objective': 'binary:logistic',\n 'use_label_encoder': False,\n 'base_score': None,\n 'booster': None,\n 'callbacks': None,\n 'colsample_bylevel': None,\n 'colsample_bynode': None,\n 'colsample_bytree': None,\n 'early_stopping_rounds': None,\n 'enable_categorical': False,\n 'eval_metric': None,\n 'gamma': None,\n 'gpu_id': None,\n 'grow_policy': None,\n 'importance_type': None,\n 'interaction_constraints': None,\n 'learning_rate': None,\n 'max_bin': None,\n 'max_cat_to_onehot': None,\n 'max_delta_step': None,\n 'max_depth': None,\n 'max_leaves': None,\n 'min_child_weight': None,\n 'missing': nan,\n 'monotone_constraints': None,\n 'n_estimators': 100,\n 'n_jobs': None,\n 'num_parallel_tree': None,\n 'predictor': None,\n 'random_state': None,\n 'reg_alpha': None,\n 'reg_lambda': None,\n 'sampling_method': None,\n 'scale_pos_weight': None,\n 'subsample': None,\n 'tree_method': None,\n 'validate_parameters': None,\n 'verbosity': None}"
     },
     "execution_count": 22,
     "metadata": {},
     "output_type": "execute_result"
    }
   ],
   "source": [
    "XGBClassifier().get_params()"
   ],
   "metadata": {
    "collapsed": false,
    "pycharm": {
     "name": "#%%\n"
    }
   }
  },
  {
   "cell_type": "code",
   "execution_count": 23,
   "outputs": [
    {
     "data": {
      "text/plain": "{'colsample_bytree': 1,\n 'learning_rate': 0.05,\n 'max_depth': 4,\n 'n_estimators': 200}"
     },
     "execution_count": 23,
     "metadata": {},
     "output_type": "execute_result"
    }
   ],
   "source": [
    "def my_roc_auc_score(model, X, y): return roc_auc_score(y, model.predict_proba(X)[:,1])\n",
    "\n",
    "params = [{'learning_rate': [0.02, 0.05, 0.1, 0.3],\n",
    "         'max_depth': [2, 3, 4],\n",
    "         'n_estimators': [100, 200, 300],\n",
    "         'colsample_bytree': [0.8, 1]}]\n",
    "\n",
    "classifier = XGBClassifier(subsample=0.5, eval_metric='auc')\n",
    "grid = GridSearchCV(classifier,\n",
    "                      param_grid=params,\n",
    "                      scoring=my_roc_auc_score,\n",
    "                      cv=3)\n",
    "\n",
    "grid.fit(X_train, y_train)\n",
    "grid.best_params_"
   ],
   "metadata": {
    "collapsed": false,
    "pycharm": {
     "name": "#%%\n"
    }
   }
  },
  {
   "cell_type": "markdown",
   "source": [
    "## Train Data"
   ],
   "metadata": {
    "collapsed": false,
    "pycharm": {
     "name": "#%% md\n"
    }
   }
  },
  {
   "cell_type": "code",
   "execution_count": 25,
   "outputs": [
    {
     "name": "stdout",
     "output_type": "stream",
     "text": [
      "[0]\tvalidation_0-auc:0.78644\tvalidation_1-auc:0.78096\n",
      "[1]\tvalidation_0-auc:0.79319\tvalidation_1-auc:0.78930\n",
      "[2]\tvalidation_0-auc:0.80005\tvalidation_1-auc:0.79511\n",
      "[3]\tvalidation_0-auc:0.80419\tvalidation_1-auc:0.79999\n",
      "[4]\tvalidation_0-auc:0.80436\tvalidation_1-auc:0.79960\n",
      "[5]\tvalidation_0-auc:0.80634\tvalidation_1-auc:0.80179\n",
      "[6]\tvalidation_0-auc:0.80678\tvalidation_1-auc:0.80247\n",
      "[7]\tvalidation_0-auc:0.80786\tvalidation_1-auc:0.80311\n",
      "[8]\tvalidation_0-auc:0.80873\tvalidation_1-auc:0.80359\n",
      "[9]\tvalidation_0-auc:0.80985\tvalidation_1-auc:0.80463\n",
      "[10]\tvalidation_0-auc:0.81099\tvalidation_1-auc:0.80603\n",
      "[11]\tvalidation_0-auc:0.81144\tvalidation_1-auc:0.80631\n",
      "[12]\tvalidation_0-auc:0.81170\tvalidation_1-auc:0.80689\n",
      "[13]\tvalidation_0-auc:0.81195\tvalidation_1-auc:0.80722\n",
      "[14]\tvalidation_0-auc:0.81243\tvalidation_1-auc:0.80761\n",
      "[15]\tvalidation_0-auc:0.81250\tvalidation_1-auc:0.80763\n",
      "[16]\tvalidation_0-auc:0.81301\tvalidation_1-auc:0.80809\n",
      "[17]\tvalidation_0-auc:0.81344\tvalidation_1-auc:0.80862\n",
      "[18]\tvalidation_0-auc:0.81360\tvalidation_1-auc:0.80900\n",
      "[19]\tvalidation_0-auc:0.81449\tvalidation_1-auc:0.81001\n",
      "[20]\tvalidation_0-auc:0.81448\tvalidation_1-auc:0.80996\n",
      "[21]\tvalidation_0-auc:0.81512\tvalidation_1-auc:0.81064\n",
      "[22]\tvalidation_0-auc:0.81548\tvalidation_1-auc:0.81097\n",
      "[23]\tvalidation_0-auc:0.81607\tvalidation_1-auc:0.81180\n",
      "[24]\tvalidation_0-auc:0.81659\tvalidation_1-auc:0.81232\n",
      "[25]\tvalidation_0-auc:0.81698\tvalidation_1-auc:0.81288\n",
      "[26]\tvalidation_0-auc:0.81707\tvalidation_1-auc:0.81289\n",
      "[27]\tvalidation_0-auc:0.81738\tvalidation_1-auc:0.81316\n",
      "[28]\tvalidation_0-auc:0.81784\tvalidation_1-auc:0.81377\n",
      "[29]\tvalidation_0-auc:0.81836\tvalidation_1-auc:0.81439\n",
      "[30]\tvalidation_0-auc:0.81865\tvalidation_1-auc:0.81480\n",
      "[31]\tvalidation_0-auc:0.81916\tvalidation_1-auc:0.81515\n",
      "[32]\tvalidation_0-auc:0.81941\tvalidation_1-auc:0.81534\n",
      "[33]\tvalidation_0-auc:0.81976\tvalidation_1-auc:0.81560\n",
      "[34]\tvalidation_0-auc:0.81991\tvalidation_1-auc:0.81579\n",
      "[35]\tvalidation_0-auc:0.82016\tvalidation_1-auc:0.81616\n",
      "[36]\tvalidation_0-auc:0.82052\tvalidation_1-auc:0.81658\n",
      "[37]\tvalidation_0-auc:0.82077\tvalidation_1-auc:0.81693\n",
      "[38]\tvalidation_0-auc:0.82102\tvalidation_1-auc:0.81713\n",
      "[39]\tvalidation_0-auc:0.82137\tvalidation_1-auc:0.81747\n",
      "[40]\tvalidation_0-auc:0.82177\tvalidation_1-auc:0.81789\n",
      "[41]\tvalidation_0-auc:0.82212\tvalidation_1-auc:0.81825\n",
      "[42]\tvalidation_0-auc:0.82233\tvalidation_1-auc:0.81842\n",
      "[43]\tvalidation_0-auc:0.82256\tvalidation_1-auc:0.81866\n",
      "[44]\tvalidation_0-auc:0.82265\tvalidation_1-auc:0.81873\n",
      "[45]\tvalidation_0-auc:0.82284\tvalidation_1-auc:0.81893\n",
      "[46]\tvalidation_0-auc:0.82306\tvalidation_1-auc:0.81924\n",
      "[47]\tvalidation_0-auc:0.82329\tvalidation_1-auc:0.81944\n",
      "[48]\tvalidation_0-auc:0.82349\tvalidation_1-auc:0.81966\n",
      "[49]\tvalidation_0-auc:0.82369\tvalidation_1-auc:0.81976\n",
      "[50]\tvalidation_0-auc:0.82389\tvalidation_1-auc:0.82004\n",
      "[51]\tvalidation_0-auc:0.82407\tvalidation_1-auc:0.82019\n",
      "[52]\tvalidation_0-auc:0.82418\tvalidation_1-auc:0.82039\n",
      "[53]\tvalidation_0-auc:0.82442\tvalidation_1-auc:0.82062\n",
      "[54]\tvalidation_0-auc:0.82459\tvalidation_1-auc:0.82078\n",
      "[55]\tvalidation_0-auc:0.82478\tvalidation_1-auc:0.82095\n",
      "[56]\tvalidation_0-auc:0.82495\tvalidation_1-auc:0.82117\n",
      "[57]\tvalidation_0-auc:0.82510\tvalidation_1-auc:0.82135\n",
      "[58]\tvalidation_0-auc:0.82526\tvalidation_1-auc:0.82151\n",
      "[59]\tvalidation_0-auc:0.82538\tvalidation_1-auc:0.82160\n",
      "[60]\tvalidation_0-auc:0.82547\tvalidation_1-auc:0.82172\n",
      "[61]\tvalidation_0-auc:0.82563\tvalidation_1-auc:0.82186\n",
      "[62]\tvalidation_0-auc:0.82570\tvalidation_1-auc:0.82188\n",
      "[63]\tvalidation_0-auc:0.82578\tvalidation_1-auc:0.82197\n",
      "[64]\tvalidation_0-auc:0.82590\tvalidation_1-auc:0.82206\n",
      "[65]\tvalidation_0-auc:0.82604\tvalidation_1-auc:0.82220\n",
      "[66]\tvalidation_0-auc:0.82621\tvalidation_1-auc:0.82230\n",
      "[67]\tvalidation_0-auc:0.82633\tvalidation_1-auc:0.82244\n",
      "[68]\tvalidation_0-auc:0.82638\tvalidation_1-auc:0.82247\n",
      "[69]\tvalidation_0-auc:0.82648\tvalidation_1-auc:0.82261\n",
      "[70]\tvalidation_0-auc:0.82662\tvalidation_1-auc:0.82273\n",
      "[71]\tvalidation_0-auc:0.82670\tvalidation_1-auc:0.82279\n",
      "[72]\tvalidation_0-auc:0.82676\tvalidation_1-auc:0.82284\n",
      "[73]\tvalidation_0-auc:0.82683\tvalidation_1-auc:0.82291\n",
      "[74]\tvalidation_0-auc:0.82689\tvalidation_1-auc:0.82300\n",
      "[75]\tvalidation_0-auc:0.82700\tvalidation_1-auc:0.82309\n",
      "[76]\tvalidation_0-auc:0.82708\tvalidation_1-auc:0.82317\n",
      "[77]\tvalidation_0-auc:0.82717\tvalidation_1-auc:0.82331\n",
      "[78]\tvalidation_0-auc:0.82727\tvalidation_1-auc:0.82336\n",
      "[79]\tvalidation_0-auc:0.82737\tvalidation_1-auc:0.82345\n",
      "[80]\tvalidation_0-auc:0.82748\tvalidation_1-auc:0.82355\n",
      "[81]\tvalidation_0-auc:0.82755\tvalidation_1-auc:0.82359\n",
      "[82]\tvalidation_0-auc:0.82762\tvalidation_1-auc:0.82366\n",
      "[83]\tvalidation_0-auc:0.82768\tvalidation_1-auc:0.82375\n",
      "[84]\tvalidation_0-auc:0.82779\tvalidation_1-auc:0.82384\n",
      "[85]\tvalidation_0-auc:0.82783\tvalidation_1-auc:0.82389\n",
      "[86]\tvalidation_0-auc:0.82790\tvalidation_1-auc:0.82394\n",
      "[87]\tvalidation_0-auc:0.82797\tvalidation_1-auc:0.82396\n",
      "[88]\tvalidation_0-auc:0.82804\tvalidation_1-auc:0.82407\n",
      "[89]\tvalidation_0-auc:0.82809\tvalidation_1-auc:0.82410\n",
      "[90]\tvalidation_0-auc:0.82817\tvalidation_1-auc:0.82415\n",
      "[91]\tvalidation_0-auc:0.82821\tvalidation_1-auc:0.82420\n",
      "[92]\tvalidation_0-auc:0.82828\tvalidation_1-auc:0.82422\n",
      "[93]\tvalidation_0-auc:0.82834\tvalidation_1-auc:0.82420\n",
      "[94]\tvalidation_0-auc:0.82846\tvalidation_1-auc:0.82433\n",
      "[95]\tvalidation_0-auc:0.82852\tvalidation_1-auc:0.82441\n",
      "[96]\tvalidation_0-auc:0.82856\tvalidation_1-auc:0.82443\n",
      "[97]\tvalidation_0-auc:0.82861\tvalidation_1-auc:0.82449\n",
      "[98]\tvalidation_0-auc:0.82866\tvalidation_1-auc:0.82446\n",
      "[99]\tvalidation_0-auc:0.82875\tvalidation_1-auc:0.82451\n",
      "[100]\tvalidation_0-auc:0.82880\tvalidation_1-auc:0.82456\n",
      "[101]\tvalidation_0-auc:0.82885\tvalidation_1-auc:0.82460\n",
      "[102]\tvalidation_0-auc:0.82892\tvalidation_1-auc:0.82463\n",
      "[103]\tvalidation_0-auc:0.82897\tvalidation_1-auc:0.82464\n",
      "[104]\tvalidation_0-auc:0.82904\tvalidation_1-auc:0.82463\n",
      "[105]\tvalidation_0-auc:0.82907\tvalidation_1-auc:0.82465\n",
      "[106]\tvalidation_0-auc:0.82912\tvalidation_1-auc:0.82467\n",
      "[107]\tvalidation_0-auc:0.82918\tvalidation_1-auc:0.82473\n",
      "[108]\tvalidation_0-auc:0.82921\tvalidation_1-auc:0.82476\n",
      "[109]\tvalidation_0-auc:0.82927\tvalidation_1-auc:0.82475\n",
      "[110]\tvalidation_0-auc:0.82935\tvalidation_1-auc:0.82478\n",
      "[111]\tvalidation_0-auc:0.82943\tvalidation_1-auc:0.82480\n",
      "[112]\tvalidation_0-auc:0.82947\tvalidation_1-auc:0.82479\n",
      "[113]\tvalidation_0-auc:0.82953\tvalidation_1-auc:0.82485\n",
      "[114]\tvalidation_0-auc:0.82958\tvalidation_1-auc:0.82485\n",
      "[115]\tvalidation_0-auc:0.82961\tvalidation_1-auc:0.82486\n",
      "[116]\tvalidation_0-auc:0.82968\tvalidation_1-auc:0.82491\n",
      "[117]\tvalidation_0-auc:0.82972\tvalidation_1-auc:0.82497\n",
      "[118]\tvalidation_0-auc:0.82977\tvalidation_1-auc:0.82495\n",
      "[119]\tvalidation_0-auc:0.82980\tvalidation_1-auc:0.82498\n",
      "[120]\tvalidation_0-auc:0.82985\tvalidation_1-auc:0.82502\n",
      "[121]\tvalidation_0-auc:0.82990\tvalidation_1-auc:0.82496\n",
      "[122]\tvalidation_0-auc:0.82996\tvalidation_1-auc:0.82502\n",
      "[123]\tvalidation_0-auc:0.83001\tvalidation_1-auc:0.82507\n",
      "[124]\tvalidation_0-auc:0.83007\tvalidation_1-auc:0.82510\n",
      "[125]\tvalidation_0-auc:0.83013\tvalidation_1-auc:0.82511\n",
      "[126]\tvalidation_0-auc:0.83019\tvalidation_1-auc:0.82515\n",
      "[127]\tvalidation_0-auc:0.83023\tvalidation_1-auc:0.82517\n",
      "[128]\tvalidation_0-auc:0.83029\tvalidation_1-auc:0.82516\n",
      "[129]\tvalidation_0-auc:0.83032\tvalidation_1-auc:0.82517\n",
      "[130]\tvalidation_0-auc:0.83035\tvalidation_1-auc:0.82517\n",
      "[131]\tvalidation_0-auc:0.83040\tvalidation_1-auc:0.82517\n",
      "[132]\tvalidation_0-auc:0.83042\tvalidation_1-auc:0.82518\n",
      "[133]\tvalidation_0-auc:0.83048\tvalidation_1-auc:0.82518\n",
      "[134]\tvalidation_0-auc:0.83050\tvalidation_1-auc:0.82518\n",
      "[135]\tvalidation_0-auc:0.83054\tvalidation_1-auc:0.82520\n",
      "[136]\tvalidation_0-auc:0.83057\tvalidation_1-auc:0.82520\n",
      "[137]\tvalidation_0-auc:0.83065\tvalidation_1-auc:0.82518\n",
      "[138]\tvalidation_0-auc:0.83068\tvalidation_1-auc:0.82521\n",
      "[139]\tvalidation_0-auc:0.83073\tvalidation_1-auc:0.82523\n",
      "[140]\tvalidation_0-auc:0.83078\tvalidation_1-auc:0.82524\n",
      "[141]\tvalidation_0-auc:0.83085\tvalidation_1-auc:0.82522\n",
      "[142]\tvalidation_0-auc:0.83088\tvalidation_1-auc:0.82522\n",
      "[143]\tvalidation_0-auc:0.83091\tvalidation_1-auc:0.82525\n",
      "[144]\tvalidation_0-auc:0.83095\tvalidation_1-auc:0.82527\n",
      "[145]\tvalidation_0-auc:0.83100\tvalidation_1-auc:0.82527\n",
      "[146]\tvalidation_0-auc:0.83104\tvalidation_1-auc:0.82529\n",
      "[147]\tvalidation_0-auc:0.83109\tvalidation_1-auc:0.82528\n",
      "[148]\tvalidation_0-auc:0.83114\tvalidation_1-auc:0.82528\n",
      "[149]\tvalidation_0-auc:0.83119\tvalidation_1-auc:0.82528\n",
      "[150]\tvalidation_0-auc:0.83122\tvalidation_1-auc:0.82528\n",
      "[151]\tvalidation_0-auc:0.83127\tvalidation_1-auc:0.82529\n",
      "[152]\tvalidation_0-auc:0.83134\tvalidation_1-auc:0.82533\n",
      "[153]\tvalidation_0-auc:0.83137\tvalidation_1-auc:0.82534\n",
      "[154]\tvalidation_0-auc:0.83139\tvalidation_1-auc:0.82534\n",
      "[155]\tvalidation_0-auc:0.83145\tvalidation_1-auc:0.82536\n",
      "[156]\tvalidation_0-auc:0.83147\tvalidation_1-auc:0.82540\n",
      "[157]\tvalidation_0-auc:0.83151\tvalidation_1-auc:0.82541\n",
      "[158]\tvalidation_0-auc:0.83154\tvalidation_1-auc:0.82546\n",
      "[159]\tvalidation_0-auc:0.83160\tvalidation_1-auc:0.82548\n",
      "[160]\tvalidation_0-auc:0.83164\tvalidation_1-auc:0.82550\n",
      "[161]\tvalidation_0-auc:0.83167\tvalidation_1-auc:0.82551\n",
      "[162]\tvalidation_0-auc:0.83172\tvalidation_1-auc:0.82551\n",
      "[163]\tvalidation_0-auc:0.83174\tvalidation_1-auc:0.82552\n",
      "[164]\tvalidation_0-auc:0.83176\tvalidation_1-auc:0.82553\n",
      "[165]\tvalidation_0-auc:0.83182\tvalidation_1-auc:0.82552\n",
      "[166]\tvalidation_0-auc:0.83185\tvalidation_1-auc:0.82557\n",
      "[167]\tvalidation_0-auc:0.83190\tvalidation_1-auc:0.82566\n",
      "[168]\tvalidation_0-auc:0.83193\tvalidation_1-auc:0.82569\n",
      "[169]\tvalidation_0-auc:0.83200\tvalidation_1-auc:0.82575\n",
      "[170]\tvalidation_0-auc:0.83203\tvalidation_1-auc:0.82576\n",
      "[171]\tvalidation_0-auc:0.83206\tvalidation_1-auc:0.82577\n",
      "[172]\tvalidation_0-auc:0.83210\tvalidation_1-auc:0.82579\n",
      "[173]\tvalidation_0-auc:0.83214\tvalidation_1-auc:0.82577\n",
      "[174]\tvalidation_0-auc:0.83216\tvalidation_1-auc:0.82580\n",
      "[175]\tvalidation_0-auc:0.83223\tvalidation_1-auc:0.82582\n",
      "[176]\tvalidation_0-auc:0.83226\tvalidation_1-auc:0.82579\n",
      "[177]\tvalidation_0-auc:0.83231\tvalidation_1-auc:0.82580\n",
      "[178]\tvalidation_0-auc:0.83235\tvalidation_1-auc:0.82581\n",
      "[179]\tvalidation_0-auc:0.83238\tvalidation_1-auc:0.82583\n",
      "[180]\tvalidation_0-auc:0.83242\tvalidation_1-auc:0.82584\n",
      "[181]\tvalidation_0-auc:0.83245\tvalidation_1-auc:0.82586\n",
      "[182]\tvalidation_0-auc:0.83247\tvalidation_1-auc:0.82583\n",
      "[183]\tvalidation_0-auc:0.83251\tvalidation_1-auc:0.82587\n",
      "[184]\tvalidation_0-auc:0.83254\tvalidation_1-auc:0.82586\n",
      "[185]\tvalidation_0-auc:0.83257\tvalidation_1-auc:0.82587\n",
      "[186]\tvalidation_0-auc:0.83262\tvalidation_1-auc:0.82587\n",
      "[187]\tvalidation_0-auc:0.83266\tvalidation_1-auc:0.82587\n",
      "[188]\tvalidation_0-auc:0.83268\tvalidation_1-auc:0.82587\n",
      "[189]\tvalidation_0-auc:0.83274\tvalidation_1-auc:0.82591\n",
      "[190]\tvalidation_0-auc:0.83278\tvalidation_1-auc:0.82591\n",
      "[191]\tvalidation_0-auc:0.83281\tvalidation_1-auc:0.82590\n",
      "[192]\tvalidation_0-auc:0.83285\tvalidation_1-auc:0.82591\n",
      "[193]\tvalidation_0-auc:0.83290\tvalidation_1-auc:0.82590\n",
      "[194]\tvalidation_0-auc:0.83295\tvalidation_1-auc:0.82587\n",
      "[195]\tvalidation_0-auc:0.83299\tvalidation_1-auc:0.82590\n",
      "[196]\tvalidation_0-auc:0.83301\tvalidation_1-auc:0.82591\n",
      "[197]\tvalidation_0-auc:0.83305\tvalidation_1-auc:0.82591\n",
      "[198]\tvalidation_0-auc:0.83309\tvalidation_1-auc:0.82595\n",
      "[199]\tvalidation_0-auc:0.83312\tvalidation_1-auc:0.82596\n",
      "Accuracy: 0.7504774029280713\n",
      "Precision: 0.7356218778019726\n",
      "Recall: 0.7968641598445956\n",
      "Confusion Matrix\n"
     ]
    },
    {
     "name": "stderr",
     "output_type": "stream",
     "text": [
      "c:\\users\\mrahm\\pycharmprojects\\pythonprojectz\\venv\\lib\\site-packages\\xgboost\\sklearn.py:793: UserWarning: `early_stopping_rounds` in `fit` method is deprecated for better compatibility with scikit-learn, use `early_stopping_rounds` in constructor or`set_params` instead.\n",
      "  warnings.warn(\n"
     ]
    },
    {
     "data": {
      "text/plain": "array([[4868, 2064],\n       [1464, 5743]], dtype=int64)"
     },
     "execution_count": 25,
     "metadata": {},
     "output_type": "execute_result"
    }
   ],
   "source": [
    "classifier = XGBClassifier(eval_metric='auc', subsample=0.5, learning_rate=0.05, max_depth=4, n_estimators=200,colsample_bytree=1)\n",
    "classifier.fit(X_train, y_train, eval_set=[(X_train , y_train),(X_val,y_val)],early_stopping_rounds=10)\n",
    "y_pred = classifier.predict(X_test)\n",
    "predictions = [round(value) for value in y_pred]\n",
    "accuracy = accuracy_score(y_test, predictions)\n",
    "precision = precision_score(y_test, predictions)\n",
    "recall = recall_score(y_test, y_pred)\n",
    "print(\"Accuracy:\", accuracy)\n",
    "print(\"Precision:\", precision)\n",
    "print(\"Recall:\", recall)\n",
    "print(\"Confusion Matrix\")\n",
    "confusion_matrix(y_test, y_pred)"
   ],
   "metadata": {
    "collapsed": false,
    "pycharm": {
     "name": "#%%\n"
    }
   }
  },
  {
   "cell_type": "markdown",
   "source": [
    "# Visualization"
   ],
   "metadata": {
    "collapsed": false,
    "pycharm": {
     "name": "#%% md\n"
    }
   }
  },
  {
   "cell_type": "code",
   "execution_count": 26,
   "outputs": [
    {
     "data": {
      "text/plain": "    mean_fit_time  std_fit_time  mean_score_time  std_score_time  \\\n0        1.516996      0.057982         0.037664        0.001700   \n1        2.814343      0.105414         0.030999        0.000004   \n2        4.097121      0.101611         0.036175        0.001166   \n3        1.740799      0.042370         0.031331        0.002627   \n4        3.407596      0.117163         0.035667        0.002494   \n..            ...           ...              ...             ...   \n67       3.693765      0.205167         0.035332        0.004025   \n68       5.354337      0.236035         0.038670        0.001244   \n69       2.336535      0.075932         0.034334        0.006183   \n70       4.607047      0.195987         0.041999        0.012026   \n71       6.677288      0.261584         0.044537        0.004759   \n\n   param_colsample_bytree param_learning_rate param_max_depth  \\\n0                     0.8                0.02               2   \n1                     0.8                0.02               2   \n2                     0.8                0.02               2   \n3                     0.8                0.02               3   \n4                     0.8                0.02               3   \n..                    ...                 ...             ...   \n67                      1                 0.3               3   \n68                      1                 0.3               3   \n69                      1                 0.3               4   \n70                      1                 0.3               4   \n71                      1                 0.3               4   \n\n   param_n_estimators                                             params  \\\n0                 100  {'colsample_bytree': 0.8, 'learning_rate': 0.0...   \n1                 200  {'colsample_bytree': 0.8, 'learning_rate': 0.0...   \n2                 300  {'colsample_bytree': 0.8, 'learning_rate': 0.0...   \n3                 100  {'colsample_bytree': 0.8, 'learning_rate': 0.0...   \n4                 200  {'colsample_bytree': 0.8, 'learning_rate': 0.0...   \n..                ...                                                ...   \n67                200  {'colsample_bytree': 1, 'learning_rate': 0.3, ...   \n68                300  {'colsample_bytree': 1, 'learning_rate': 0.3, ...   \n69                100  {'colsample_bytree': 1, 'learning_rate': 0.3, ...   \n70                200  {'colsample_bytree': 1, 'learning_rate': 0.3, ...   \n71                300  {'colsample_bytree': 1, 'learning_rate': 0.3, ...   \n\n    split0_test_score  split1_test_score  split2_test_score  mean_test_score  \\\n0            0.811093           0.808079           0.809399         0.809524   \n1            0.818847           0.818705           0.817031         0.818195   \n2            0.822125           0.822362           0.820157         0.821548   \n3            0.816762           0.815666           0.815484         0.815971   \n4            0.822775           0.823349           0.821036         0.822386   \n..                ...                ...                ...              ...   \n67           0.819633           0.820130           0.818920         0.819561   \n68           0.817719           0.818792           0.817009         0.817840   \n69           0.818613           0.820052           0.816047         0.818237   \n70           0.814378           0.815243           0.811621         0.813748   \n71           0.812372           0.813086           0.808536         0.811331   \n\n    std_test_score  rank_test_score  \n0         0.001234               72  \n1         0.000825               63  \n2         0.000989               52  \n3         0.000564               65  \n4         0.000983               49  \n..             ...              ...  \n67        0.000497               57  \n68        0.000733               64  \n69        0.001657               62  \n70        0.001544               68  \n71        0.001998               69  \n\n[72 rows x 15 columns]",
      "text/html": "<div>\n<style scoped>\n    .dataframe tbody tr th:only-of-type {\n        vertical-align: middle;\n    }\n\n    .dataframe tbody tr th {\n        vertical-align: top;\n    }\n\n    .dataframe thead th {\n        text-align: right;\n    }\n</style>\n<table border=\"1\" class=\"dataframe\">\n  <thead>\n    <tr style=\"text-align: right;\">\n      <th></th>\n      <th>mean_fit_time</th>\n      <th>std_fit_time</th>\n      <th>mean_score_time</th>\n      <th>std_score_time</th>\n      <th>param_colsample_bytree</th>\n      <th>param_learning_rate</th>\n      <th>param_max_depth</th>\n      <th>param_n_estimators</th>\n      <th>params</th>\n      <th>split0_test_score</th>\n      <th>split1_test_score</th>\n      <th>split2_test_score</th>\n      <th>mean_test_score</th>\n      <th>std_test_score</th>\n      <th>rank_test_score</th>\n    </tr>\n  </thead>\n  <tbody>\n    <tr>\n      <th>0</th>\n      <td>1.516996</td>\n      <td>0.057982</td>\n      <td>0.037664</td>\n      <td>0.001700</td>\n      <td>0.8</td>\n      <td>0.02</td>\n      <td>2</td>\n      <td>100</td>\n      <td>{'colsample_bytree': 0.8, 'learning_rate': 0.0...</td>\n      <td>0.811093</td>\n      <td>0.808079</td>\n      <td>0.809399</td>\n      <td>0.809524</td>\n      <td>0.001234</td>\n      <td>72</td>\n    </tr>\n    <tr>\n      <th>1</th>\n      <td>2.814343</td>\n      <td>0.105414</td>\n      <td>0.030999</td>\n      <td>0.000004</td>\n      <td>0.8</td>\n      <td>0.02</td>\n      <td>2</td>\n      <td>200</td>\n      <td>{'colsample_bytree': 0.8, 'learning_rate': 0.0...</td>\n      <td>0.818847</td>\n      <td>0.818705</td>\n      <td>0.817031</td>\n      <td>0.818195</td>\n      <td>0.000825</td>\n      <td>63</td>\n    </tr>\n    <tr>\n      <th>2</th>\n      <td>4.097121</td>\n      <td>0.101611</td>\n      <td>0.036175</td>\n      <td>0.001166</td>\n      <td>0.8</td>\n      <td>0.02</td>\n      <td>2</td>\n      <td>300</td>\n      <td>{'colsample_bytree': 0.8, 'learning_rate': 0.0...</td>\n      <td>0.822125</td>\n      <td>0.822362</td>\n      <td>0.820157</td>\n      <td>0.821548</td>\n      <td>0.000989</td>\n      <td>52</td>\n    </tr>\n    <tr>\n      <th>3</th>\n      <td>1.740799</td>\n      <td>0.042370</td>\n      <td>0.031331</td>\n      <td>0.002627</td>\n      <td>0.8</td>\n      <td>0.02</td>\n      <td>3</td>\n      <td>100</td>\n      <td>{'colsample_bytree': 0.8, 'learning_rate': 0.0...</td>\n      <td>0.816762</td>\n      <td>0.815666</td>\n      <td>0.815484</td>\n      <td>0.815971</td>\n      <td>0.000564</td>\n      <td>65</td>\n    </tr>\n    <tr>\n      <th>4</th>\n      <td>3.407596</td>\n      <td>0.117163</td>\n      <td>0.035667</td>\n      <td>0.002494</td>\n      <td>0.8</td>\n      <td>0.02</td>\n      <td>3</td>\n      <td>200</td>\n      <td>{'colsample_bytree': 0.8, 'learning_rate': 0.0...</td>\n      <td>0.822775</td>\n      <td>0.823349</td>\n      <td>0.821036</td>\n      <td>0.822386</td>\n      <td>0.000983</td>\n      <td>49</td>\n    </tr>\n    <tr>\n      <th>...</th>\n      <td>...</td>\n      <td>...</td>\n      <td>...</td>\n      <td>...</td>\n      <td>...</td>\n      <td>...</td>\n      <td>...</td>\n      <td>...</td>\n      <td>...</td>\n      <td>...</td>\n      <td>...</td>\n      <td>...</td>\n      <td>...</td>\n      <td>...</td>\n      <td>...</td>\n    </tr>\n    <tr>\n      <th>67</th>\n      <td>3.693765</td>\n      <td>0.205167</td>\n      <td>0.035332</td>\n      <td>0.004025</td>\n      <td>1</td>\n      <td>0.3</td>\n      <td>3</td>\n      <td>200</td>\n      <td>{'colsample_bytree': 1, 'learning_rate': 0.3, ...</td>\n      <td>0.819633</td>\n      <td>0.820130</td>\n      <td>0.818920</td>\n      <td>0.819561</td>\n      <td>0.000497</td>\n      <td>57</td>\n    </tr>\n    <tr>\n      <th>68</th>\n      <td>5.354337</td>\n      <td>0.236035</td>\n      <td>0.038670</td>\n      <td>0.001244</td>\n      <td>1</td>\n      <td>0.3</td>\n      <td>3</td>\n      <td>300</td>\n      <td>{'colsample_bytree': 1, 'learning_rate': 0.3, ...</td>\n      <td>0.817719</td>\n      <td>0.818792</td>\n      <td>0.817009</td>\n      <td>0.817840</td>\n      <td>0.000733</td>\n      <td>64</td>\n    </tr>\n    <tr>\n      <th>69</th>\n      <td>2.336535</td>\n      <td>0.075932</td>\n      <td>0.034334</td>\n      <td>0.006183</td>\n      <td>1</td>\n      <td>0.3</td>\n      <td>4</td>\n      <td>100</td>\n      <td>{'colsample_bytree': 1, 'learning_rate': 0.3, ...</td>\n      <td>0.818613</td>\n      <td>0.820052</td>\n      <td>0.816047</td>\n      <td>0.818237</td>\n      <td>0.001657</td>\n      <td>62</td>\n    </tr>\n    <tr>\n      <th>70</th>\n      <td>4.607047</td>\n      <td>0.195987</td>\n      <td>0.041999</td>\n      <td>0.012026</td>\n      <td>1</td>\n      <td>0.3</td>\n      <td>4</td>\n      <td>200</td>\n      <td>{'colsample_bytree': 1, 'learning_rate': 0.3, ...</td>\n      <td>0.814378</td>\n      <td>0.815243</td>\n      <td>0.811621</td>\n      <td>0.813748</td>\n      <td>0.001544</td>\n      <td>68</td>\n    </tr>\n    <tr>\n      <th>71</th>\n      <td>6.677288</td>\n      <td>0.261584</td>\n      <td>0.044537</td>\n      <td>0.004759</td>\n      <td>1</td>\n      <td>0.3</td>\n      <td>4</td>\n      <td>300</td>\n      <td>{'colsample_bytree': 1, 'learning_rate': 0.3, ...</td>\n      <td>0.812372</td>\n      <td>0.813086</td>\n      <td>0.808536</td>\n      <td>0.811331</td>\n      <td>0.001998</td>\n      <td>69</td>\n    </tr>\n  </tbody>\n</table>\n<p>72 rows × 15 columns</p>\n</div>"
     },
     "execution_count": 26,
     "metadata": {},
     "output_type": "execute_result"
    }
   ],
   "source": [
    "result = pd.DataFrame(grid.cv_results_)\n",
    "result"
   ],
   "metadata": {
    "collapsed": false,
    "pycharm": {
     "name": "#%%\n"
    }
   }
  }
 ],
 "metadata": {
  "kernelspec": {
   "display_name": "Python 3",
   "language": "python",
   "name": "python3"
  },
  "language_info": {
   "codemirror_mode": {
    "name": "ipython",
    "version": 2
   },
   "file_extension": ".py",
   "mimetype": "text/x-python",
   "name": "python",
   "nbconvert_exporter": "python",
   "pygments_lexer": "ipython2",
   "version": "2.7.6"
  }
 },
 "nbformat": 4,
 "nbformat_minor": 0
}